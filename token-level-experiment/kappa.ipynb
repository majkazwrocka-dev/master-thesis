{
 "cells": [
  {
   "cell_type": "markdown",
   "id": "3ceaf883-75c3-447d-af59-c48b80095d5d",
   "metadata": {},
   "source": [
    "kappa scores for TuringBERT (token-level)"
   ]
  },
  {
   "cell_type": "code",
   "execution_count": 5,
   "id": "61bb8f8e-5391-40ef-9ad4-47fc775fcecb",
   "metadata": {},
   "outputs": [
    {
     "name": "stdout",
     "output_type": "stream",
     "text": [
      "Cohen's kappa between Model A and Model B: 0.8859\n"
     ]
    }
   ],
   "source": [
    "import pandas as pd\n",
    "from sklearn.metrics import cohen_kappa_score\n",
    "\n",
    "# Load predictions for  models\n",
    "modelA = pd.read_csv('predictions_TuringBERT.csv', sep='\\t')\n",
    "modelB = pd.read_csv('predictions_TuringBERT2.csv', sep='\\t')\n",
    "modelC = pd.read_csv('predictions_TuringBERT3.csv', sep='\\t')\n",
    "\n",
    "kappa = cohen_kappa_score(modelA['prediction'], modelB['prediction'])\n",
    "print(f\"Cohen's kappa between Model A and Model B: {kappa:.4f}\")"
   ]
  },
  {
   "cell_type": "code",
   "execution_count": 7,
   "id": "0da425e1-80fd-4535-b3a3-1c0898bdb153",
   "metadata": {},
   "outputs": [
    {
     "name": "stdout",
     "output_type": "stream",
     "text": [
      "Kappa A vs C: 0.8696\n",
      "Kappa B vs C: 0.8594\n"
     ]
    }
   ],
   "source": [
    "kappa_AC = cohen_kappa_score(modelA['prediction'], modelC['prediction'])\n",
    "kappa_BC = cohen_kappa_score(modelB['prediction'], modelC['prediction'])\n",
    "\n",
    "print(f\"Kappa A vs C: {kappa_AC:.4f}\")\n",
    "print(f\"Kappa B vs C: {kappa_BC:.4f}\")"
   ]
  },
  {
   "cell_type": "code",
   "execution_count": 17,
   "id": "05a40769-f532-45ef-b692-fe545659ae48",
   "metadata": {},
   "outputs": [
    {
     "name": "stdout",
     "output_type": "stream",
     "text": [
      "Mean F1-score: 0.6698\n",
      "Standard deviation of F1-scores: 0.0037\n"
     ]
    }
   ],
   "source": [
    "import numpy as np\n",
    "\n",
    "f1_scores = [0.6686, 0.6659, 0.6748]\n",
    "\n",
    "mean_score = np.mean(f1_scores)\n",
    "print(f\"Mean F1-score: {mean_score:.4f}\")\n",
    "\n",
    "std_dev = np.std(f1_scores)\n",
    "print(f\"Standard deviation of F1-scores: {std_dev:.4f}\")"
   ]
  },
  {
   "cell_type": "code",
   "execution_count": null,
   "id": "329e75ce-9e99-41af-90b3-3e1a0820f375",
   "metadata": {},
   "outputs": [],
   "source": []
  }
 ],
 "metadata": {
  "kernelspec": {
   "display_name": "thesis",
   "language": "python",
   "name": "venv"
  },
  "language_info": {
   "codemirror_mode": {
    "name": "ipython",
    "version": 3
   },
   "file_extension": ".py",
   "mimetype": "text/x-python",
   "name": "python",
   "nbconvert_exporter": "python",
   "pygments_lexer": "ipython3",
   "version": "3.12.2"
  }
 },
 "nbformat": 4,
 "nbformat_minor": 5
}
