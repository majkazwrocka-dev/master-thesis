{
 "cells": [
  {
   "cell_type": "markdown",
   "id": "705da7cf-f7a3-41e2-9587-7df59523a75a",
   "metadata": {},
   "source": [
    "# Basic setup"
   ]
  },
  {
   "cell_type": "markdown",
   "id": "f4357d8c-85f2-467b-b82c-14fc38c8dcde",
   "metadata": {},
   "source": [
    "## preprocessing"
   ]
  },
  {
   "cell_type": "code",
   "execution_count": 2,
   "id": "8e9e24c7-23db-41aa-bd21-f59728121e2f",
   "metadata": {},
   "outputs": [],
   "source": [
    "#!pip install datasets transformers scikit-learn"
   ]
  },
  {
   "cell_type": "code",
   "execution_count": 1,
   "id": "b1b4839e-4aea-459a-b7b3-7160ffa3d20b",
   "metadata": {},
   "outputs": [
    {
     "name": "stderr",
     "output_type": "stream",
     "text": [
      "/Users/maja/Documents/VU/thesis/venv/lib/python3.12/site-packages/tqdm/auto.py:21: TqdmWarning: IProgress not found. Please update jupyter and ipywidgets. See https://ipywidgets.readthedocs.io/en/stable/user_install.html\n",
      "  from .autonotebook import tqdm as notebook_tqdm\n"
     ]
    }
   ],
   "source": [
    "import json\n",
    "import pandas as pd\n",
    "from datasets import Dataset\n",
    "import transformers\n",
    "from transformers import AutoTokenizer, AutoModel\n",
    "from transformers import AutoModelForTokenClassification, TrainingArguments, Trainer"
   ]
  },
  {
   "cell_type": "code",
   "execution_count": 6,
   "id": "288ecd8e-933a-4ecf-b8a3-3da04317ca09",
   "metadata": {},
   "outputs": [],
   "source": [
    "\n",
    "train_files = [\n",
    "    \"../data/eng-danc.json\",\n",
    "    \"../data/eng-fina.json\",\n",
    "    \"../data/eng-nava.json\",\n",
    "    \"../data/eng-redh.json\",\n",
    "    \"../data/eng-scan.json\",\n",
    "    \"../data/eng-spec.json\"\n",
    "]\n",
    "    \n",
    "test_file = \"../data/eng-houn.json\""
   ]
  },
  {
   "cell_type": "code",
   "execution_count": 8,
   "id": "b1fbdf3a-e033-472a-841f-4f15ece2ab3f",
   "metadata": {},
   "outputs": [],
   "source": [
    "def extract_words_and_sentiments(data):\n",
    "    \"\"\"\n",
    "    Transforms a JSON data object into a list of [words, sentiment_labels] pairs.\n",
    "    Sentiment is assigned to tokens based on the 'wids' from the concept data.\n",
    "    Tokens not associated with any concept get a sentiment of 0.\n",
    "    \"\"\"\n",
    "    transformed_data = []\n",
    "\n",
    "    for sentence in data.get(\"sentences\", []):\n",
    "        words = sentence.get(\"words\", [])\n",
    "        concepts = sentence.get(\"concepts\", [])\n",
    "\n",
    "        word_list = [w[\"word\"] for w in words]\n",
    "        sentiment_list = [\"NEUTRAL\"] * len(words)  # initialize all sentiments as neutral (0)\n",
    "\n",
    "        # map word id to index in words list\n",
    "        wid_to_index = {w[\"wid\"]: idx for idx, w in enumerate(words)}\n",
    "\n",
    "        for concept in concepts:\n",
    "            if \"sentiment\" in concept and \"wids\" in concept:\n",
    "                sentiment = concept[\"sentiment\"]\n",
    "\n",
    "                if sentiment <= -20:\n",
    "                    simple_sentiment = \"NEGATIVE\"\n",
    "                elif sentiment >= 20:\n",
    "                    simple_sentiment = \"POSITIVE\"\n",
    "                else:\n",
    "                    simple_sentiment = \"NEUTRAL\"\n",
    "\n",
    "                for wid in concept[\"wids\"]:\n",
    "                    idx = wid_to_index.get(wid)\n",
    "                    if idx is not None:\n",
    "                        sentiment_list[idx] = simple_sentiment\n",
    "\n",
    "        transformed_data.append([word_list, sentiment_list])\n",
    "\n",
    "    return transformed_data\n"
   ]
  },
  {
   "cell_type": "code",
   "execution_count": 10,
   "id": "4f649e50-a40e-4dda-baec-ae69468c243d",
   "metadata": {},
   "outputs": [],
   "source": [
    "combined_train_list = []\n",
    "\n",
    "for file in train_files:\n",
    "    with open(file, \"r\") as f:\n",
    "        data = json.load(f)\n",
    "        transformed = extract_words_and_sentiments(data)\n",
    "        combined_train_list.extend(transformed)"
   ]
  },
  {
   "cell_type": "code",
   "execution_count": 12,
   "id": "559fb480-487d-4f7e-b2a7-6c4542324bdb",
   "metadata": {},
   "outputs": [
    {
     "data": {
      "text/plain": [
       "[['The', 'Adventure', 'of', 'the', 'Dancing', 'Men'],\n",
       " ['NEUTRAL', 'NEUTRAL', 'NEUTRAL', 'NEUTRAL', 'NEUTRAL', 'NEUTRAL']]"
      ]
     },
     "execution_count": 12,
     "metadata": {},
     "output_type": "execute_result"
    }
   ],
   "source": [
    "with open(test_file, \"r\") as f:\n",
    "    test_data = json.load(f)\n",
    "    \n",
    "test_list = extract_words_and_sentiments(test_data)\n",
    "combined_train_list[0]"
   ]
  },
  {
   "cell_type": "code",
   "execution_count": 14,
   "id": "a721e426-fb57-4d96-a800-687ea88cffd2",
   "metadata": {},
   "outputs": [
    {
     "name": "stdout",
     "output_type": "stream",
     "text": [
      "                                              tokens  \\\n",
      "0            [The, Adventure, of, the, Dancing, Men]   \n",
      "1  [Holmes, had, been, seated, for, some, hours, ...   \n",
      "2  [His, head, was, sunk, upon, his, breast, ,, a...   \n",
      "3  [\", So, ,, Watson, ,, \", said, he, ,, suddenly...   \n",
      "4           [I, gave, a, start, of, astonishment, .]   \n",
      "\n",
      "                                     sentiment_label  \n",
      "0  [NEUTRAL, NEUTRAL, NEUTRAL, NEUTRAL, NEUTRAL, ...  \n",
      "1  [NEUTRAL, NEUTRAL, NEUTRAL, NEUTRAL, NEUTRAL, ...  \n",
      "2  [NEUTRAL, NEUTRAL, NEUTRAL, NEUTRAL, NEUTRAL, ...  \n",
      "3  [NEUTRAL, NEUTRAL, NEUTRAL, NEUTRAL, NEUTRAL, ...  \n",
      "4  [NEUTRAL, NEUTRAL, NEUTRAL, NEGATIVE, NEUTRAL,...  \n"
     ]
    }
   ],
   "source": [
    "df_train = pd.DataFrame(combined_train_list, columns=['tokens', 'sentiment_label'])\n",
    "df_test = pd.DataFrame(test_list, columns=['tokens', 'sentiment_label'])\n",
    "print(df_train.head())"
   ]
  },
  {
   "cell_type": "code",
   "execution_count": 16,
   "id": "66c4aa77-37c5-459c-875d-db54273e22ea",
   "metadata": {},
   "outputs": [],
   "source": [
    "label_map = {\"NEGATIVE\": 0, \"NEUTRAL\": 1, \"POSITIVE\": 2}\n",
    "\n",
    "df_train[\"sentiment_label\"] = df_train[\"sentiment_label\"].apply(\n",
    "    lambda labels: [label_map[label] for label in labels]\n",
    ")\n",
    "df_test[\"sentiment_label\"] = df_test[\"sentiment_label\"].apply(\n",
    "    lambda labels: [label_map[label] for label in labels]\n",
    ")\n"
   ]
  },
  {
   "cell_type": "code",
   "execution_count": 18,
   "id": "1670b350-39df-4ca6-a971-4aed501dd36f",
   "metadata": {},
   "outputs": [
    {
     "name": "stdout",
     "output_type": "stream",
     "text": [
      "{'tokens': ['\"', 'So', ',', 'Watson', ',', '\"', 'said', 'he', ',', 'suddenly', ',', '\"', 'you', 'do', 'not', 'propose', 'to', 'invest', 'in', 'South', 'African', 'securities', '?', '\"'], 'sentiment_label': [1, 1, 1, 1, 1, 1, 1, 1, 1, 1, 1, 1, 1, 1, 1, 1, 1, 2, 1, 1, 1, 2, 1, 1]}\n"
     ]
    }
   ],
   "source": [
    "dataset_train = Dataset.from_pandas(df_train)\n",
    "dataset_test = Dataset.from_pandas(df_test)\n",
    "print(dataset_train[3])"
   ]
  },
  {
   "cell_type": "code",
   "execution_count": 20,
   "id": "a5a8f609-4f1c-46d4-8c96-4e582304dda8",
   "metadata": {},
   "outputs": [],
   "source": [
    "tokenizer = AutoTokenizer.from_pretrained(\"bert-base-uncased\")"
   ]
  },
  {
   "cell_type": "code",
   "execution_count": 21,
   "id": "7db20c05-9bff-4495-aee0-23240a0283f8",
   "metadata": {},
   "outputs": [],
   "source": [
    "label_all_tokens = True"
   ]
  },
  {
   "cell_type": "code",
   "execution_count": 24,
   "id": "f96bfe7a-6764-4dc1-a9f4-576691e698f6",
   "metadata": {},
   "outputs": [],
   "source": [
    "def tokenize_and_align_labels(dataset, label_all_tokens=True):\n",
    "    tokenized_inputs = tokenizer(dataset[\"tokens\"], truncation=True, is_split_into_words=True)\n",
    "\n",
    "    sentiment_results = []\n",
    "    attention_masks = []\n",
    "    word_ids_results = []\n",
    "\n",
    "    for i, sentiment_labels in enumerate(dataset[\"sentiment_label\"]):\n",
    "        word_ids = tokenized_inputs.word_ids(batch_index=i)\n",
    "        previous_word_idx = None\n",
    "\n",
    "        token_sentiments = []\n",
    "        attention_mask = []\n",
    "        word_ids_tokens = []\n",
    "\n",
    "        for word_idx, input_id in zip(word_ids, tokenized_inputs[\"input_ids\"][i]):\n",
    "            word_ids_tokens.append(word_idx)\n",
    "\n",
    "            if word_idx is None:\n",
    "                token_sentiments.append(-100)\n",
    "                attention_mask.append(0)\n",
    "            elif word_idx != previous_word_idx:\n",
    "                token_sentiments.append(sentiment_labels[word_idx])\n",
    "                attention_mask.append(1)\n",
    "            else:\n",
    "                token_sentiments.append(sentiment_labels[word_idx] if label_all_tokens else -100)\n",
    "                attention_mask.append(1)\n",
    "\n",
    "            previous_word_idx = word_idx\n",
    "\n",
    "        sentiment_results.append(token_sentiments)\n",
    "        attention_masks.append(attention_mask)\n",
    "        word_ids_results.append(word_ids_tokens)\n",
    "\n",
    "    tokenized_inputs[\"labels\"] = sentiment_results\n",
    "    tokenized_inputs[\"attention_mask\"] = attention_masks\n",
    "    tokenized_inputs[\"word_ids\"] = word_ids_results\n",
    "\n",
    "    return tokenized_inputs\n"
   ]
  },
  {
   "cell_type": "code",
   "execution_count": 25,
   "id": "5e65debd-730a-4a40-a34b-ebe7ff0617b2",
   "metadata": {},
   "outputs": [
    {
     "data": {
      "text/plain": [
       "{'input_ids': [[101, 1996, 6172, 1997, 1996, 5613, 2273, 102], [101, 9106, 2018, 2042, 8901, 2005, 2070, 2847, 1999, 4223, 2007, 2010, 2146, 1010, 4857, 2067, 9203, 2058, 1037, 5072, 6258, 1999, 2029, 2002, 2001, 16005, 1037, 3391, 15451, 7716, 25373, 4031, 1012, 102], [101, 2010, 2132, 2001, 10417, 2588, 2010, 7388, 1010, 1998, 2002, 2246, 2013, 2026, 2391, 1997, 3193, 2066, 1037, 4326, 1010, 17595, 2243, 4743, 1010, 2007, 10634, 3897, 28764, 1998, 1037, 2304, 2327, 1011, 12226, 1012, 102]], 'token_type_ids': [[0, 0, 0, 0, 0, 0, 0, 0], [0, 0, 0, 0, 0, 0, 0, 0, 0, 0, 0, 0, 0, 0, 0, 0, 0, 0, 0, 0, 0, 0, 0, 0, 0, 0, 0, 0, 0, 0, 0, 0, 0, 0], [0, 0, 0, 0, 0, 0, 0, 0, 0, 0, 0, 0, 0, 0, 0, 0, 0, 0, 0, 0, 0, 0, 0, 0, 0, 0, 0, 0, 0, 0, 0, 0, 0, 0, 0, 0, 0]], 'attention_mask': [[0, 1, 1, 1, 1, 1, 1, 0], [0, 1, 1, 1, 1, 1, 1, 1, 1, 1, 1, 1, 1, 1, 1, 1, 1, 1, 1, 1, 1, 1, 1, 1, 1, 1, 1, 1, 1, 1, 1, 1, 1, 0], [0, 1, 1, 1, 1, 1, 1, 1, 1, 1, 1, 1, 1, 1, 1, 1, 1, 1, 1, 1, 1, 1, 1, 1, 1, 1, 1, 1, 1, 1, 1, 1, 1, 1, 1, 1, 0]], 'labels': [[-100, 1, 1, 1, 1, 1, 1, -100], [-100, 1, 1, 1, 1, 1, 1, 1, 1, 0, 1, 1, 1, 1, 1, 1, 1, 1, 1, 1, 1, 1, 1, 1, 1, 1, 1, 1, 0, 0, 0, 1, 1, -100], [-100, 1, 1, 1, 1, 1, 1, 1, 1, 1, 1, 1, 1, 1, 1, 1, 1, 1, 1, 0, 1, 1, 1, 1, 1, 1, 0, 0, 1, 1, 1, 1, 1, 1, 1, 1, -100]], 'word_ids': [[None, 0, 1, 2, 3, 4, 5, None], [None, 0, 1, 2, 3, 4, 5, 6, 7, 8, 9, 10, 11, 12, 13, 14, 15, 16, 17, 18, 19, 20, 21, 22, 23, 24, 25, 26, 27, 27, 27, 28, 29, None], [None, 0, 1, 2, 3, 4, 5, 6, 7, 8, 9, 10, 11, 12, 13, 14, 15, 16, 17, 18, 19, 20, 20, 21, 22, 23, 24, 25, 26, 27, 28, 29, 30, 30, 30, 31, None]]}"
      ]
     },
     "execution_count": 25,
     "metadata": {},
     "output_type": "execute_result"
    }
   ],
   "source": [
    "tokenize_and_align_labels(dataset_train[:3])"
   ]
  },
  {
   "cell_type": "code",
   "execution_count": 28,
   "id": "895cd17d-dded-4fd4-a5da-b825d0b6c690",
   "metadata": {},
   "outputs": [
    {
     "name": "stderr",
     "output_type": "stream",
     "text": [
      "huggingface/tokenizers: The current process just got forked, after parallelism has already been used. Disabling parallelism to avoid deadlocks...\n",
      "To disable this warning, you can either:\n",
      "\t- Avoid using `tokenizers` before the fork if possible\n",
      "\t- Explicitly set the environment variable TOKENIZERS_PARALLELISM=(true | false)\n",
      "Map: 100%|████████████████████████| 3651/3651 [00:00<00:00, 11664.47 examples/s]\n",
      "Map: 100%|████████████████████████| 3824/3824 [00:00<00:00, 21198.86 examples/s]\n"
     ]
    }
   ],
   "source": [
    "tokenized_training_dataset = dataset_train.map(tokenize_and_align_labels, batched=True)\n",
    "tokenized_test_dataset = dataset_test.map(tokenize_and_align_labels, batched=True)"
   ]
  },
  {
   "cell_type": "code",
   "execution_count": 30,
   "id": "c0c68cfc-ba29-4a15-9668-0617b81ff8dd",
   "metadata": {},
   "outputs": [
    {
     "data": {
      "text/plain": [
       "{'tokens': ['The', 'Adventure', 'of', 'the', 'Dancing', 'Men'],\n",
       " 'sentiment_label': [1, 1, 1, 1, 1, 1],\n",
       " 'input_ids': [101, 1996, 6172, 1997, 1996, 5613, 2273, 102],\n",
       " 'token_type_ids': [0, 0, 0, 0, 0, 0, 0, 0],\n",
       " 'attention_mask': [0, 1, 1, 1, 1, 1, 1, 0],\n",
       " 'labels': [-100, 1, 1, 1, 1, 1, 1, -100],\n",
       " 'word_ids': [None, 0, 1, 2, 3, 4, 5, None]}"
      ]
     },
     "execution_count": 30,
     "metadata": {},
     "output_type": "execute_result"
    }
   ],
   "source": [
    "tokenized_training_dataset[0]"
   ]
  },
  {
   "cell_type": "markdown",
   "id": "7fbf9cdb-16c6-4d07-9c82-23f08da8a001",
   "metadata": {},
   "source": [
    "## model training"
   ]
  },
  {
   "cell_type": "code",
   "execution_count": 33,
   "id": "8276bd0d-7637-4fd9-b7e3-f74fea5412a9",
   "metadata": {},
   "outputs": [],
   "source": [
    "#!pip install evaluate\n",
    "#!pip install seqeval\n",
    "#!pip install torch\n",
    "#!pip install \"accelerate>=0.26.0\""
   ]
  },
  {
   "cell_type": "code",
   "execution_count": 37,
   "id": "74674555-7735-4593-b309-03ef51e2e390",
   "metadata": {},
   "outputs": [
    {
     "name": "stderr",
     "output_type": "stream",
     "text": [
      "Some weights of BertForTokenClassification were not initialized from the model checkpoint at ../bert/bert_1760_1900 and are newly initialized: ['classifier.bias', 'classifier.weight']\n",
      "You should probably TRAIN this model on a down-stream task to be able to use it for predictions and inference.\n"
     ]
    }
   ],
   "source": [
    "import evaluate\n",
    "import numpy as np\n",
    "from transformers import BertTokenizer, BertForTokenClassification\n",
    "\n",
    "model_path = \"../bert/bert_1760_1900\"  \n",
    "model_name = \"bert-1760\" \n",
    "\n",
    "model = BertForTokenClassification.from_pretrained(model_path, num_labels=3)\n",
    "task = \"sentiment_analysis\"\n",
    "batch_size = 16"
   ]
  },
  {
   "cell_type": "code",
   "execution_count": 39,
   "id": "550d024b-6ced-4313-9ba1-6023892a62e6",
   "metadata": {},
   "outputs": [],
   "source": [
    "from transformers import set_seed\n",
    "\n",
    "#put your seed\n",
    "SEED = 23\n",
    "set_seed(SEED)\n",
    "\n",
    "args = TrainingArguments(\n",
    "    f\"{model_name}-finetuned-{task}\",\n",
    "    eval_strategy = \"epoch\",\n",
    "    learning_rate=2e-5,\n",
    "    per_device_train_batch_size=batch_size,\n",
    "    per_device_eval_batch_size=batch_size,\n",
    "    num_train_epochs=3,\n",
    "    weight_decay=0.01,\n",
    "    seed=SEED,\n",
    "    report_to=None,\n",
    ")"
   ]
  },
  {
   "cell_type": "code",
   "execution_count": 41,
   "id": "06a353d7-4ba6-4f3f-8f6d-fcaa0e32d24d",
   "metadata": {},
   "outputs": [],
   "source": [
    "from transformers import DataCollatorForTokenClassification\n",
    "\n",
    "data_collator = DataCollatorForTokenClassification(tokenizer)\n",
    "metric = evaluate.load(\"seqeval\")"
   ]
  },
  {
   "cell_type": "code",
   "execution_count": 43,
   "id": "09a6ff1a-9bf5-44ad-83c6-2e2b3b3ac76a",
   "metadata": {},
   "outputs": [],
   "source": [
    "label_list = [\"NEGATIVE\", \"NEUTRAL\", \"POSITIVE\"]"
   ]
  },
  {
   "cell_type": "code",
   "execution_count": 45,
   "id": "b970d860-b8dc-40f7-aac5-a202a2b10278",
   "metadata": {},
   "outputs": [],
   "source": [
    "def compute_metrics(p):\n",
    "    predictions, labels = p\n",
    "    predictions = np.argmax(predictions, axis=2)\n",
    "\n",
    "    # Remove ignored index (special tokens)\n",
    "    true_predictions = [\n",
    "        [label_list[p] for (p, l) in zip(prediction, label) if l != -100]\n",
    "        for prediction, label in zip(predictions, labels)\n",
    "    ]\n",
    "    true_labels = [\n",
    "        [label_list[l] for (p, l) in zip(prediction, label) if l != -100]\n",
    "        for prediction, label in zip(predictions, labels)\n",
    "    ]\n",
    "\n",
    "    results = metric.compute(predictions=true_predictions, references=true_labels)\n",
    "    return {\n",
    "        \"precision\": results[\"overall_precision\"],\n",
    "        \"recall\": results[\"overall_recall\"],\n",
    "        \"f1\": results[\"overall_f1\"],\n",
    "        \"accuracy\": results[\"overall_accuracy\"],\n",
    "    }"
   ]
  },
  {
   "cell_type": "code",
   "execution_count": 47,
   "id": "525c3464-3550-4111-b611-b1eab529715a",
   "metadata": {},
   "outputs": [
    {
     "name": "stderr",
     "output_type": "stream",
     "text": [
      "/var/folders/pk/23rj3vrj73x83046rkqn9g100000gn/T/ipykernel_1144/4074046499.py:1: FutureWarning: `tokenizer` is deprecated and will be removed in version 5.0.0 for `Trainer.__init__`. Use `processing_class` instead.\n",
      "  trainer = Trainer(\n"
     ]
    }
   ],
   "source": [
    "trainer = Trainer(\n",
    "    model,\n",
    "    args,\n",
    "    train_dataset=tokenized_training_dataset,\n",
    "    eval_dataset=tokenized_test_dataset, #write test\n",
    "    data_collator=data_collator,\n",
    "    tokenizer=tokenizer,\n",
    "    compute_metrics=compute_metrics\n",
    ")"
   ]
  },
  {
   "cell_type": "code",
   "execution_count": 49,
   "id": "03476c8c-2d68-4d8d-acef-ebcf073b5262",
   "metadata": {
    "scrolled": true
   },
   "outputs": [
    {
     "name": "stderr",
     "output_type": "stream",
     "text": [
      "/Users/maja/Documents/VU/thesis/venv/lib/python3.12/site-packages/torch/utils/data/dataloader.py:683: UserWarning: 'pin_memory' argument is set as true but not supported on MPS now, then device pinned memory won't be used.\n",
      "  warnings.warn(warn_msg)\n"
     ]
    },
    {
     "data": {
      "text/html": [
       "\n",
       "    <div>\n",
       "      \n",
       "      <progress value='687' max='687' style='width:300px; height:20px; vertical-align: middle;'></progress>\n",
       "      [687/687 08:39, Epoch 3/3]\n",
       "    </div>\n",
       "    <table border=\"1\" class=\"dataframe\">\n",
       "  <thead>\n",
       " <tr style=\"text-align: left;\">\n",
       "      <th>Epoch</th>\n",
       "      <th>Training Loss</th>\n",
       "      <th>Validation Loss</th>\n",
       "      <th>Precision</th>\n",
       "      <th>Recall</th>\n",
       "      <th>F1</th>\n",
       "      <th>Accuracy</th>\n",
       "    </tr>\n",
       "  </thead>\n",
       "  <tbody>\n",
       "    <tr>\n",
       "      <td>1</td>\n",
       "      <td>No log</td>\n",
       "      <td>0.136340</td>\n",
       "      <td>0.404924</td>\n",
       "      <td>0.580363</td>\n",
       "      <td>0.477025</td>\n",
       "      <td>0.944897</td>\n",
       "    </tr>\n",
       "    <tr>\n",
       "      <td>2</td>\n",
       "      <td>No log</td>\n",
       "      <td>0.131007</td>\n",
       "      <td>0.410932</td>\n",
       "      <td>0.619031</td>\n",
       "      <td>0.493959</td>\n",
       "      <td>0.944843</td>\n",
       "    </tr>\n",
       "    <tr>\n",
       "      <td>3</td>\n",
       "      <td>0.179500</td>\n",
       "      <td>0.141346</td>\n",
       "      <td>0.388071</td>\n",
       "      <td>0.613790</td>\n",
       "      <td>0.475503</td>\n",
       "      <td>0.940541</td>\n",
       "    </tr>\n",
       "  </tbody>\n",
       "</table><p>"
      ],
      "text/plain": [
       "<IPython.core.display.HTML object>"
      ]
     },
     "metadata": {},
     "output_type": "display_data"
    },
    {
     "name": "stderr",
     "output_type": "stream",
     "text": [
      "/Users/maja/Documents/VU/thesis/venv/lib/python3.12/site-packages/seqeval/metrics/sequence_labeling.py:171: UserWarning: NEUTRAL seems not to be NE tag.\n",
      "  warnings.warn('{} seems not to be NE tag.'.format(chunk))\n",
      "/Users/maja/Documents/VU/thesis/venv/lib/python3.12/site-packages/seqeval/metrics/sequence_labeling.py:171: UserWarning: NEGATIVE seems not to be NE tag.\n",
      "  warnings.warn('{} seems not to be NE tag.'.format(chunk))\n",
      "/Users/maja/Documents/VU/thesis/venv/lib/python3.12/site-packages/seqeval/metrics/sequence_labeling.py:171: UserWarning: POSITIVE seems not to be NE tag.\n",
      "  warnings.warn('{} seems not to be NE tag.'.format(chunk))\n",
      "/Users/maja/Documents/VU/thesis/venv/lib/python3.12/site-packages/torch/utils/data/dataloader.py:683: UserWarning: 'pin_memory' argument is set as true but not supported on MPS now, then device pinned memory won't be used.\n",
      "  warnings.warn(warn_msg)\n",
      "/Users/maja/Documents/VU/thesis/venv/lib/python3.12/site-packages/seqeval/metrics/sequence_labeling.py:171: UserWarning: NEUTRAL seems not to be NE tag.\n",
      "  warnings.warn('{} seems not to be NE tag.'.format(chunk))\n",
      "/Users/maja/Documents/VU/thesis/venv/lib/python3.12/site-packages/seqeval/metrics/sequence_labeling.py:171: UserWarning: NEGATIVE seems not to be NE tag.\n",
      "  warnings.warn('{} seems not to be NE tag.'.format(chunk))\n",
      "/Users/maja/Documents/VU/thesis/venv/lib/python3.12/site-packages/seqeval/metrics/sequence_labeling.py:171: UserWarning: POSITIVE seems not to be NE tag.\n",
      "  warnings.warn('{} seems not to be NE tag.'.format(chunk))\n"
     ]
    },
    {
     "data": {
      "text/plain": [
       "TrainOutput(global_step=687, training_loss=0.1617310564243811, metrics={'train_runtime': 520.9058, 'train_samples_per_second': 21.027, 'train_steps_per_second': 1.319, 'total_flos': 282732281418474.0, 'train_loss': 0.1617310564243811, 'epoch': 3.0})"
      ]
     },
     "execution_count": 49,
     "metadata": {},
     "output_type": "execute_result"
    }
   ],
   "source": [
    "trainer.train()"
   ]
  },
  {
   "cell_type": "code",
   "execution_count": 51,
   "id": "59eebcb9-38f1-476b-a188-b79ef826e38f",
   "metadata": {},
   "outputs": [
    {
     "name": "stderr",
     "output_type": "stream",
     "text": [
      "Trainer.tokenizer is now deprecated. You should use Trainer.processing_class instead.\n"
     ]
    },
    {
     "data": {
      "text/plain": [
       "('TuringBERT_token_model/tokenizer_config.json',\n",
       " 'TuringBERT_token_model/special_tokens_map.json',\n",
       " 'TuringBERT_token_model/vocab.txt',\n",
       " 'TuringBERT_token_model/added_tokens.json',\n",
       " 'TuringBERT_token_model/tokenizer.json')"
      ]
     },
     "execution_count": 51,
     "metadata": {},
     "output_type": "execute_result"
    }
   ],
   "source": [
    "trainer.save_model('TuringBERT_token_model')\n",
    "trainer.tokenizer.save_pretrained('TuringBERT_token_model')"
   ]
  },
  {
   "cell_type": "code",
   "execution_count": 53,
   "id": "ab5d5a06-481b-404b-b525-0e53dd98c3a9",
   "metadata": {},
   "outputs": [],
   "source": [
    "model = AutoModelForTokenClassification.from_pretrained(\"TuringBERT_token_model\")\n",
    "tokenizer = AutoTokenizer.from_pretrained(\"TuringBERT_token_model\")"
   ]
  },
  {
   "cell_type": "code",
   "execution_count": 55,
   "id": "ebdcfeea-4a30-495d-8e02-1848ec72c9fd",
   "metadata": {},
   "outputs": [
    {
     "name": "stderr",
     "output_type": "stream",
     "text": [
      "/Users/maja/Documents/VU/thesis/venv/lib/python3.12/site-packages/torch/utils/data/dataloader.py:683: UserWarning: 'pin_memory' argument is set as true but not supported on MPS now, then device pinned memory won't be used.\n",
      "  warnings.warn(warn_msg)\n"
     ]
    },
    {
     "data": {
      "text/html": [],
      "text/plain": [
       "<IPython.core.display.HTML object>"
      ]
     },
     "metadata": {},
     "output_type": "display_data"
    },
    {
     "name": "stderr",
     "output_type": "stream",
     "text": [
      "/Users/maja/Documents/VU/thesis/venv/lib/python3.12/site-packages/seqeval/metrics/sequence_labeling.py:171: UserWarning: NEUTRAL seems not to be NE tag.\n",
      "  warnings.warn('{} seems not to be NE tag.'.format(chunk))\n",
      "/Users/maja/Documents/VU/thesis/venv/lib/python3.12/site-packages/seqeval/metrics/sequence_labeling.py:171: UserWarning: NEGATIVE seems not to be NE tag.\n",
      "  warnings.warn('{} seems not to be NE tag.'.format(chunk))\n",
      "/Users/maja/Documents/VU/thesis/venv/lib/python3.12/site-packages/seqeval/metrics/sequence_labeling.py:171: UserWarning: POSITIVE seems not to be NE tag.\n",
      "  warnings.warn('{} seems not to be NE tag.'.format(chunk))\n"
     ]
    },
    {
     "data": {
      "text/plain": [
       "{'eval_loss': 0.1413463056087494,\n",
       " 'eval_precision': 0.38807069219440354,\n",
       " 'eval_recall': 0.6137898905194503,\n",
       " 'eval_f1': 0.4755030226472977,\n",
       " 'eval_accuracy': 0.9405414851857826,\n",
       " 'eval_runtime': 29.6803,\n",
       " 'eval_samples_per_second': 128.839,\n",
       " 'eval_steps_per_second': 8.052,\n",
       " 'epoch': 3.0}"
      ]
     },
     "execution_count": 55,
     "metadata": {},
     "output_type": "execute_result"
    }
   ],
   "source": [
    "trainer.evaluate()"
   ]
  },
  {
   "cell_type": "code",
   "execution_count": 57,
   "id": "ce300b0c-d6b4-463c-885c-a47c2e3d09dc",
   "metadata": {},
   "outputs": [
    {
     "name": "stderr",
     "output_type": "stream",
     "text": [
      "/Users/maja/Documents/VU/thesis/venv/lib/python3.12/site-packages/torch/utils/data/dataloader.py:683: UserWarning: 'pin_memory' argument is set as true but not supported on MPS now, then device pinned memory won't be used.\n",
      "  warnings.warn(warn_msg)\n",
      "/Users/maja/Documents/VU/thesis/venv/lib/python3.12/site-packages/seqeval/metrics/sequence_labeling.py:171: UserWarning: NEUTRAL seems not to be NE tag.\n",
      "  warnings.warn('{} seems not to be NE tag.'.format(chunk))\n",
      "/Users/maja/Documents/VU/thesis/venv/lib/python3.12/site-packages/seqeval/metrics/sequence_labeling.py:171: UserWarning: NEGATIVE seems not to be NE tag.\n",
      "  warnings.warn('{} seems not to be NE tag.'.format(chunk))\n",
      "/Users/maja/Documents/VU/thesis/venv/lib/python3.12/site-packages/seqeval/metrics/sequence_labeling.py:171: UserWarning: POSITIVE seems not to be NE tag.\n",
      "  warnings.warn('{} seems not to be NE tag.'.format(chunk))\n"
     ]
    }
   ],
   "source": [
    "predictions, labels, _ = trainer.predict(tokenized_test_dataset) #data set\n",
    "predictions = np.argmax(predictions, axis=2)"
   ]
  },
  {
   "cell_type": "markdown",
   "id": "0bcb2741-c6d4-43c5-90e7-680d7bedb8f6",
   "metadata": {},
   "source": [
    "## model evaluation"
   ]
  },
  {
   "cell_type": "code",
   "execution_count": 259,
   "id": "2d77bd4a-aa53-4aad-b743-6994e7a88c30",
   "metadata": {},
   "outputs": [],
   "source": [
    "#!pip install matplotlib"
   ]
  },
  {
   "cell_type": "code",
   "execution_count": 61,
   "id": "d9a8e014-7275-4740-8c0f-e49104f7e4d5",
   "metadata": {},
   "outputs": [],
   "source": [
    "import csv\n",
    "import numpy as np\n",
    "import re\n",
    "\n",
    "def map_predictions_to_words_and_save_to_file(predictions, labels, tokenized_data, output_file_path):\n",
    "    \"\"\"\n",
    "    Args:\n",
    "        predictions: List or numpy array of shape (num_samples, seq_len) with predicted label IDs.\n",
    "        labels: List or numpy array of shape (num_samples, seq_len) with true label IDs (-100 for ignored tokens).\n",
    "        tokenized_data: Dictionary with keys like 'input_ids' and 't_word_id' (mapping tokens to words).\n",
    "        tokenizer: HuggingFace tokenizer object to convert token IDs to tokens and strings.\n",
    "        label_list: List of string labels, where index corresponds to label ID.\n",
    "        output_file_path: Path to save TSV output.\n",
    "\n",
    "    Returns:\n",
    "        new_tokens: List of words.\n",
    "        new_labels: List of gold label strings for each word.\n",
    "        new_predictions: List of predicted label strings for each word.\n",
    "    \"\"\"\n",
    "\n",
    "    with open(output_file_path, 'w', newline='', encoding='utf-8') as file:\n",
    "        writer = csv.writer(file, delimiter='\\t')\n",
    "        writer.writerow(['word', 'prediction', 'gold_label'])\n",
    "\n",
    "        new_tokens = []\n",
    "        new_labels = []\n",
    "        new_predictions = []\n",
    "\n",
    "        for idx, (prediction, label, word_ids) in enumerate(zip(predictions, labels, tokenized_data[\"word_ids\"])):\n",
    "            word_predictions = {}\n",
    "            word_labels = {}\n",
    "\n",
    "            for token_idx, word_idx in enumerate(word_ids):\n",
    "                if word_idx is None:\n",
    "                    # skip special tokens like [CLS], [SEP]\n",
    "                    continue\n",
    "\n",
    "                token = tokenizer.convert_ids_to_tokens(tokenized_data[\"input_ids\"][idx][token_idx])\n",
    "\n",
    "               \n",
    "                if word_idx not in word_predictions:\n",
    "                    word_predictions[word_idx] = []\n",
    "                word_predictions[word_idx].append(prediction[token_idx])\n",
    "\n",
    "                \n",
    "                if label[token_idx] != -100:\n",
    "                    if word_idx not in word_labels:\n",
    "                        word_labels[word_idx] = label[token_idx]\n",
    "\n",
    "\n",
    "            for word_idx in sorted(word_predictions.keys()):\n",
    "                # majority vote for multi-token words\n",
    "                aggregated_label = np.argmax(np.bincount(word_predictions[word_idx])) \n",
    "                predicted_label = label_list[aggregated_label]\n",
    "\n",
    "                gold_label = label_list[word_labels[word_idx]] if word_idx in word_labels else \"O\"\n",
    "\n",
    "                # reconstruct full word string from subwords\n",
    "                word_tokens = [\n",
    "                    tokenizer.convert_ids_to_tokens(tokenized_data[\"input_ids\"][idx][i])\n",
    "                    for i, w_idx in enumerate(word_ids) if w_idx == word_idx\n",
    "                ]\n",
    "                word = tokenizer.convert_tokens_to_string(word_tokens).strip()\n",
    "\n",
    "                new_tokens.append(word)\n",
    "                new_labels.append(gold_label)\n",
    "                new_predictions.append(predicted_label)\n",
    "\n",
    "                writer.writerow([word, predicted_label, gold_label])\n",
    "\n",
    "    print(f\"Results saved to {output_file_path}\")\n",
    "    return new_tokens, new_labels, new_predictions\n"
   ]
  },
  {
   "cell_type": "code",
   "execution_count": 63,
   "id": "768fa041-20dd-4c9d-84cc-4fe91670708d",
   "metadata": {},
   "outputs": [
    {
     "name": "stdout",
     "output_type": "stream",
     "text": [
      "Results saved to predictions_TuringBERT.csv\n"
     ]
    }
   ],
   "source": [
    "output_file = \"predictions_TuringBERT.csv\"\n",
    "new_tokens, new_labels, new_predictions = map_predictions_to_words_and_save_to_file(predictions, labels, tokenized_test_dataset, output_file)"
   ]
  },
  {
   "cell_type": "code",
   "execution_count": 66,
   "id": "16a5481c-5670-464f-be07-dfa4494545e5",
   "metadata": {},
   "outputs": [
    {
     "name": "stdout",
     "output_type": "stream",
     "text": [
      "['the', 'hound', 'of', 'the', 'baskervilles', 'chapter', '1', ':', 'mr', 'sherlock', 'holmes', 'mr', 'sherlock', 'holmes', ',', 'who', 'was', 'usually', 'very', 'late', 'in', 'the', 'mornings', ',', 'save', 'upon', 'those', 'not', 'infrequent', 'occasions']\n",
      "['NEUTRAL', 'NEUTRAL', 'NEUTRAL', 'NEUTRAL', 'NEUTRAL', 'NEUTRAL', 'NEUTRAL', 'NEUTRAL', 'NEUTRAL', 'NEUTRAL', 'NEUTRAL', 'NEUTRAL', 'NEUTRAL', 'NEUTRAL', 'NEUTRAL', 'NEUTRAL', 'NEUTRAL', 'NEUTRAL', 'NEUTRAL', 'NEGATIVE', 'NEUTRAL', 'NEUTRAL', 'NEUTRAL', 'NEUTRAL', 'NEUTRAL', 'NEUTRAL', 'NEUTRAL', 'NEUTRAL', 'NEUTRAL', 'NEUTRAL']\n",
      "['NEUTRAL', 'NEUTRAL', 'NEUTRAL', 'NEUTRAL', 'NEUTRAL', 'NEUTRAL', 'NEUTRAL', 'NEUTRAL', 'NEUTRAL', 'NEUTRAL', 'NEUTRAL', 'NEUTRAL', 'NEUTRAL', 'NEUTRAL', 'NEUTRAL', 'NEUTRAL', 'NEUTRAL', 'NEUTRAL', 'NEUTRAL', 'NEUTRAL', 'NEUTRAL', 'NEUTRAL', 'NEUTRAL', 'NEUTRAL', 'NEUTRAL', 'NEUTRAL', 'NEUTRAL', 'NEUTRAL', 'NEGATIVE', 'NEUTRAL']\n"
     ]
    }
   ],
   "source": [
    "print(new_tokens[:30])\n",
    "print(new_labels[:30])\n",
    "print(new_predictions[:30])"
   ]
  },
  {
   "cell_type": "code",
   "execution_count": 68,
   "id": "926d9169-32c7-43e0-8083-e2e4cf429e22",
   "metadata": {},
   "outputs": [
    {
     "name": "stdout",
     "output_type": "stream",
     "text": [
      "Accuracy: 0.9476264923251848\n",
      "Classification Report:\n",
      "               precision    recall  f1-score   support\n",
      "\n",
      "    NEGATIVE     0.4123    0.8402    0.5532      1508\n",
      "     NEUTRAL     0.9937    0.9530    0.9729     67799\n",
      "    POSITIVE     0.3513    0.7559    0.4797      1053\n",
      "\n",
      "    accuracy                         0.9476     70360\n",
      "   macro avg     0.5858    0.8497    0.6686     70360\n",
      "weighted avg     0.9716    0.9476    0.9565     70360\n",
      "\n"
     ]
    },
    {
     "data": {
      "image/png": "[encoded data removed]",
      "text/plain": [
       "<Figure size 640x480 with 2 Axes>"
      ]
     },
     "metadata": {},
     "output_type": "display_data"
    }
   ],
   "source": [
    "from sklearn.metrics import accuracy_score, classification_report, confusion_matrix, ConfusionMatrixDisplay\n",
    "import matplotlib.pyplot as plt\n",
    "%matplotlib inline\n",
    "\n",
    "def evaluate_predictions(predictions, gold_labels, label_list):\n",
    "    \"\"\"\n",
    "    Evaluate predictions against gold labels and print metrics.\n",
    "    \"\"\"\n",
    "    predictions_flat = [label_list.index(label) for label in predictions]\n",
    "    gold_labels_flat = [label_list.index(label) for label in gold_labels]\n",
    "\n",
    "    accuracy = accuracy_score(gold_labels_flat, predictions_flat)\n",
    "    report = classification_report(gold_labels_flat, predictions_flat, target_names=label_list, digits=4)\n",
    "\n",
    "    cm = confusion_matrix(gold_labels_flat, predictions_flat, labels=list(range(len(label_list))))\n",
    "    disp = ConfusionMatrixDisplay(confusion_matrix=cm, display_labels=label_list)\n",
    "   \n",
    "    print(\"Accuracy:\", accuracy)\n",
    "    print(\"Classification Report:\\n\", report)\n",
    "    disp.plot(cmap=plt.cm.Purples, xticks_rotation='vertical')\n",
    "    plt.title(\"Confusion Matrix\")\n",
    "    plt.show()\n",
    "\n",
    "evaluate_predictions(new_predictions, new_labels, label_list)\n"
   ]
  },
  {
   "cell_type": "code",
   "execution_count": null,
   "id": "1b179a2a-91cf-4815-8e5d-c869d41ada8d",
   "metadata": {},
   "outputs": [],
   "source": []
  }
 ],
 "metadata": {
  "kernelspec": {
   "display_name": "thesis",
   "language": "python",
   "name": "venv"
  },
  "language_info": {
   "codemirror_mode": {
    "name": "ipython",
    "version": 3
   },
   "file_extension": ".py",
   "mimetype": "text/x-python",
   "name": "python",
   "nbconvert_exporter": "python",
   "pygments_lexer": "ipython3",
   "version": "3.12.2"
  }
 },
 "nbformat": 4,
 "nbformat_minor": 5
}
