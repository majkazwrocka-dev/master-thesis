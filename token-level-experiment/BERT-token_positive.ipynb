{
 "cells": [
  {
   "cell_type": "markdown",
   "id": "705da7cf-f7a3-41e2-9587-7df59523a75a",
   "metadata": {},
   "source": [
    "# evaluation of the BERT\n",
    "The model fails to mark any positive tokens, here it's tested on selected examples from the training data"
   ]
  },
  {
   "cell_type": "code",
   "execution_count": 71,
   "id": "b1b4839e-4aea-459a-b7b3-7160ffa3d20b",
   "metadata": {},
   "outputs": [],
   "source": [
    "import transformers\n",
    "from transformers import AutoTokenizer, AutoModel\n",
    "from transformers import AutoModelForTokenClassification, TrainingArguments, Trainer"
   ]
  },
  {
   "cell_type": "code",
   "execution_count": 19,
   "id": "1e3a907a-4041-4a02-96b8-3b59ac735414",
   "metadata": {},
   "outputs": [],
   "source": [
    "manual_examples = [\n",
    "    (\n",
    "        [\"See\", \"what\", \"you\", \"can\", \"make\", \"of\", \"that\", \",\", \"friend\", \"Watson\", \".\", '\"'],\n",
    "        [\"NEUTRAL\", \"NEUTRAL\", \"NEUTRAL\", \"NEUTRAL\", \"NEUTRAL\", \"NEUTRAL\", \"NEUTRAL\", \"NEUTRAL\", \"POSITIVE\", \"NEUTRAL\", \"NEUTRAL\", \"NEUTRAL\"]\n",
    "    ),\n",
    "    (\n",
    "        [\"He\", \"wheeled\", \"round\", \"upon\", \"his\", \"stool\", \",\", \"with\", \"a\", \"steaming\", \"test-tube\", \"in\", \"his\", \"hand\", \",\", \"and\", \"a\", \"gleam\", \"of\", \"amusement\", \"in\", \"his\", \"deep-set\", \"eyes\", \".\"],\n",
    "        [\"NEUTRAL\", \"NEUTRAL\", \"NEUTRAL\", \"NEUTRAL\", \"NEUTRAL\", \"NEUTRAL\", \"NEUTRAL\", \"NEUTRAL\", \"NEUTRAL\", \"NEUTRAL\", \"NEUTRAL\", \"NEUTRAL\", \"NEUTRAL\", \"NEUTRAL\", \"NEUTRAL\", \"NEUTRAL\", \"NEUTRAL\", \"POSITIVE\", \"NEUTRAL\", \"POSITIVE\", \"NEUTRAL\", \"NEUTRAL\", \"NEUTRAL\", \"NEUTRAL\", \"NEUTRAL\"]\n",
    "    ),\n",
    "    (\n",
    "        [\"I\", \"looked\", \"with\", \"amazement\", \"at\", \"the\", \"absurd\", \"hieroglyphics\", \"upon\", \"the\", \"paper\", \".\"],\n",
    "        [\"NEUTRAL\", \"NEUTRAL\", \"NEUTRAL\", \"POSITIVE\", \"NEUTRAL\", \"NEUTRAL\", \"NEGATIVE\", \"NEUTRAL\", \"NEUTRAL\", \"NEUTRAL\", \"NEUTRAL\", \"NEUTRAL\"]\n",
    "    )\n",
    "]\n"
   ]
  },
  {
   "cell_type": "markdown",
   "id": "7fbf9cdb-16c6-4d07-9c82-23f08da8a001",
   "metadata": {},
   "source": [
    "## model eval"
   ]
  },
  {
   "cell_type": "code",
   "execution_count": 64,
   "id": "afe73bf4-fff2-42ba-88be-f7bc2ec36ff1",
   "metadata": {},
   "outputs": [],
   "source": [
    "model = AutoModelForTokenClassification.from_pretrained(\"BERT_token_model\")\n",
    "tokenizer = AutoTokenizer.from_pretrained(\"BERT_token_model\")"
   ]
  },
  {
   "cell_type": "code",
   "execution_count": 54,
   "id": "09a6ff1a-9bf5-44ad-83c6-2e2b3b3ac76a",
   "metadata": {},
   "outputs": [],
   "source": [
    "label_list = [\"NEGATIVE\", \"NEUTRAL\", \"POSITIVE\"]"
   ]
  },
  {
   "cell_type": "code",
   "execution_count": 66,
   "id": "8703045c-c88c-4308-a534-47ae99992f6d",
   "metadata": {},
   "outputs": [],
   "source": [
    "import torch\n",
    "\n",
    "def predict_sentiment(model, tokenizer, examples, label_list):\n",
    "    model.eval()\n",
    "    results = []\n",
    "\n",
    "    for tokens, gold_labels in examples:\n",
    "        encoding = tokenizer(tokens, is_split_into_words=True, return_tensors=\"pt\", truncation=True)\n",
    "        with torch.no_grad():\n",
    "            output = model(**encoding)\n",
    "        logits = output.logits\n",
    "        predictions = torch.argmax(logits, dim=2).squeeze().tolist()\n",
    "        word_ids = encoding.word_ids(0)\n",
    "\n",
    "        final_preds = []\n",
    "        previous_word_idx = None\n",
    "        for idx, word_idx in enumerate(word_ids):\n",
    "            if word_idx is None:\n",
    "                continue\n",
    "            if word_idx != previous_word_idx:\n",
    "                label_id = predictions[idx]\n",
    "                final_preds.append(label_list[label_id])\n",
    "                previous_word_idx = word_idx\n",
    "        results.append((tokens, final_preds))\n",
    "    return results\n"
   ]
  },
  {
   "cell_type": "code",
   "execution_count": 68,
   "id": "a4c7036b-2010-428a-ab4e-bebee4095476",
   "metadata": {},
   "outputs": [
    {
     "data": {
      "text/plain": [
       "[(['See',\n",
       "   'what',\n",
       "   'you',\n",
       "   'can',\n",
       "   'make',\n",
       "   'of',\n",
       "   'that',\n",
       "   ',',\n",
       "   'friend',\n",
       "   'Watson',\n",
       "   '.',\n",
       "   '\"'],\n",
       "  ['NEUTRAL',\n",
       "   'NEUTRAL',\n",
       "   'NEUTRAL',\n",
       "   'NEUTRAL',\n",
       "   'NEUTRAL',\n",
       "   'NEUTRAL',\n",
       "   'NEUTRAL',\n",
       "   'NEUTRAL',\n",
       "   'NEUTRAL',\n",
       "   'NEUTRAL',\n",
       "   'NEUTRAL',\n",
       "   'NEUTRAL']),\n",
       " (['He',\n",
       "   'wheeled',\n",
       "   'round',\n",
       "   'upon',\n",
       "   'his',\n",
       "   'stool',\n",
       "   ',',\n",
       "   'with',\n",
       "   'a',\n",
       "   'steaming',\n",
       "   'test-tube',\n",
       "   'in',\n",
       "   'his',\n",
       "   'hand',\n",
       "   ',',\n",
       "   'and',\n",
       "   'a',\n",
       "   'gleam',\n",
       "   'of',\n",
       "   'amusement',\n",
       "   'in',\n",
       "   'his',\n",
       "   'deep-set',\n",
       "   'eyes',\n",
       "   '.'],\n",
       "  ['NEUTRAL',\n",
       "   'NEUTRAL',\n",
       "   'NEUTRAL',\n",
       "   'NEUTRAL',\n",
       "   'NEUTRAL',\n",
       "   'NEUTRAL',\n",
       "   'NEUTRAL',\n",
       "   'NEUTRAL',\n",
       "   'NEUTRAL',\n",
       "   'NEUTRAL',\n",
       "   'NEUTRAL',\n",
       "   'NEUTRAL',\n",
       "   'NEUTRAL',\n",
       "   'NEUTRAL',\n",
       "   'NEUTRAL',\n",
       "   'NEUTRAL',\n",
       "   'NEUTRAL',\n",
       "   'NEUTRAL',\n",
       "   'NEUTRAL',\n",
       "   'NEUTRAL',\n",
       "   'NEUTRAL',\n",
       "   'NEUTRAL',\n",
       "   'NEUTRAL',\n",
       "   'NEUTRAL',\n",
       "   'NEUTRAL']),\n",
       " (['I',\n",
       "   'looked',\n",
       "   'with',\n",
       "   'amazement',\n",
       "   'at',\n",
       "   'the',\n",
       "   'absurd',\n",
       "   'hieroglyphics',\n",
       "   'upon',\n",
       "   'the',\n",
       "   'paper',\n",
       "   '.'],\n",
       "  ['NEUTRAL',\n",
       "   'NEUTRAL',\n",
       "   'NEUTRAL',\n",
       "   'NEUTRAL',\n",
       "   'NEUTRAL',\n",
       "   'NEUTRAL',\n",
       "   'NEUTRAL',\n",
       "   'NEUTRAL',\n",
       "   'NEUTRAL',\n",
       "   'NEUTRAL',\n",
       "   'NEUTRAL',\n",
       "   'NEUTRAL'])]"
      ]
     },
     "execution_count": 68,
     "metadata": {},
     "output_type": "execute_result"
    }
   ],
   "source": [
    "predict_sentiment(model, tokenizer, manual_examples, label_list)"
   ]
  },
  {
   "cell_type": "code",
   "execution_count": null,
   "id": "1b179a2a-91cf-4815-8e5d-c869d41ada8d",
   "metadata": {},
   "outputs": [],
   "source": []
  }
 ],
 "metadata": {
  "kernelspec": {
   "display_name": "thesis",
   "language": "python",
   "name": "venv"
  },
  "language_info": {
   "codemirror_mode": {
    "name": "ipython",
    "version": 3
   },
   "file_extension": ".py",
   "mimetype": "text/x-python",
   "name": "python",
   "nbconvert_exporter": "python",
   "pygments_lexer": "ipython3",
   "version": "3.12.2"
  }
 },
 "nbformat": 4,
 "nbformat_minor": 5
}
