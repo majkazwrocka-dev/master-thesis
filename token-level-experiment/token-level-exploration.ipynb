{
 "cells": [
  {
   "cell_type": "markdown",
   "id": "e9f750c4-8121-48df-a639-5745a6383d24",
   "metadata": {},
   "source": [
    "# Data exploration - statistics"
   ]
  },
  {
   "cell_type": "code",
   "execution_count": 10,
   "id": "a7f83f45-b402-4d2a-bede-dfb254873274",
   "metadata": {},
   "outputs": [],
   "source": [
    "\n",
    "train_files = [\n",
    "    \"../data/eng-danc.json\",\n",
    "    \"../data/eng-fina.json\",\n",
    "    \"../data/eng-nava.json\",\n",
    "    \"../data/eng-redh.json\",\n",
    "    \"../data/eng-scan.json\",\n",
    "    \"../data/eng-spec.json\"\n",
    "]\n",
    "    \n",
    "test_file = \"../data/eng-houn.json\""
   ]
  },
  {
   "cell_type": "code",
   "execution_count": 12,
   "id": "32465d82-6cde-45ba-a9c5-aa043f1fe9b2",
   "metadata": {
    "scrolled": true
   },
   "outputs": [],
   "source": [
    "def extract_words_and_sentiments(data):\n",
    "    \"\"\"\n",
    "    Transforms a JSON data object into a list of [words, sentiment_labels] pairs.\n",
    "    Sentiment is assigned to tokens based on the 'wids' from the concept data.\n",
    "    Tokens not associated with any concept get a sentiment of 0.\n",
    "    \"\"\"\n",
    "    transformed_data = []\n",
    "\n",
    "    for sentence in data.get(\"sentences\", []):\n",
    "        words = sentence.get(\"words\", [])\n",
    "        concepts = sentence.get(\"concepts\", [])\n",
    "\n",
    "        word_list = [w[\"word\"] for w in words]\n",
    "        sentiment_list = [\"NEUTRAL\"] * len(words)  # initialize all sentiments as neutral (0)\n",
    "\n",
    "        # map word id to index in words list\n",
    "        wid_to_index = {w[\"wid\"]: idx for idx, w in enumerate(words)}\n",
    "\n",
    "        for concept in concepts:\n",
    "            if \"sentiment\" in concept and \"wids\" in concept:\n",
    "                sentiment = concept[\"sentiment\"]\n",
    "\n",
    "                if sentiment <= -20:\n",
    "                    simple_sentiment = \"NEGATIVE\"\n",
    "                elif sentiment >= 20:\n",
    "                    simple_sentiment = \"POSITIVE\"\n",
    "                else:\n",
    "                    simple_sentiment = \"NEUTRAL\"\n",
    "\n",
    "                for wid in concept[\"wids\"]:\n",
    "                    idx = wid_to_index.get(wid)\n",
    "                    if idx is not None:\n",
    "                        sentiment_list[idx] = simple_sentiment\n",
    "\n",
    "        transformed_data.append([word_list, sentiment_list])\n",
    "\n",
    "    return transformed_data\n"
   ]
  },
  {
   "cell_type": "code",
   "execution_count": 14,
   "id": "1f42ae0a-6e4b-487e-ac12-03672e904604",
   "metadata": {},
   "outputs": [],
   "source": [
    "combined_train_list = []\n",
    "\n",
    "for file in train_files:\n",
    "    with open(file, \"r\") as f:\n",
    "        data = json.load(f)\n",
    "        transformed = extract_words_and_sentiments(data)\n",
    "        combined_train_list.extend(transformed)"
   ]
  },
  {
   "cell_type": "code",
   "execution_count": 15,
   "id": "44f66bf3-ab5c-46d1-9c1f-adf6ae9cc8e7",
   "metadata": {},
   "outputs": [
    {
     "data": {
      "text/plain": [
       "[['The', 'Adventure', 'of', 'the', 'Dancing', 'Men'],\n",
       " ['NEUTRAL', 'NEUTRAL', 'NEUTRAL', 'NEUTRAL', 'NEUTRAL', 'NEUTRAL']]"
      ]
     },
     "execution_count": 15,
     "metadata": {},
     "output_type": "execute_result"
    }
   ],
   "source": [
    "with open(test_file, \"r\") as f:\n",
    "    test_data = json.load(f)\n",
    "    \n",
    "test_list = extract_words_and_sentiments(test_data)\n",
    "combined_train_list[0]"
   ]
  },
  {
   "cell_type": "code",
   "execution_count": 6,
   "id": "5bd9c6fe-c3b9-4bd7-869d-7227dc38d4fa",
   "metadata": {},
   "outputs": [],
   "source": [
    "import pandas as pd"
   ]
  },
  {
   "cell_type": "code",
   "execution_count": 18,
   "id": "7d83ceeb-70b9-4351-8a9a-f9c42450b9f6",
   "metadata": {},
   "outputs": [
    {
     "name": "stdout",
     "output_type": "stream",
     "text": [
      "                                              tokens  \\\n",
      "0            [The, Adventure, of, the, Dancing, Men]   \n",
      "1  [Holmes, had, been, seated, for, some, hours, ...   \n",
      "2  [His, head, was, sunk, upon, his, breast, ,, a...   \n",
      "3  [\", So, ,, Watson, ,, \", said, he, ,, suddenly...   \n",
      "4           [I, gave, a, start, of, astonishment, .]   \n",
      "\n",
      "                                     sentiment_label  \n",
      "0  [NEUTRAL, NEUTRAL, NEUTRAL, NEUTRAL, NEUTRAL, ...  \n",
      "1  [NEUTRAL, NEUTRAL, NEUTRAL, NEUTRAL, NEUTRAL, ...  \n",
      "2  [NEUTRAL, NEUTRAL, NEUTRAL, NEUTRAL, NEUTRAL, ...  \n",
      "3  [NEUTRAL, NEUTRAL, NEUTRAL, NEUTRAL, NEUTRAL, ...  \n",
      "4  [NEUTRAL, NEUTRAL, NEUTRAL, NEGATIVE, NEUTRAL,...  \n"
     ]
    }
   ],
   "source": [
    "df_train = pd.DataFrame(combined_train_list, columns=['tokens', 'sentiment_label'])\n",
    "df_test = pd.DataFrame(test_list, columns=['tokens', 'sentiment_label'])\n",
    "print(df_train.head())"
   ]
  },
  {
   "cell_type": "code",
   "execution_count": 25,
   "id": "002f2c63-6074-44d9-9e49-e5605b65dcab",
   "metadata": {},
   "outputs": [
    {
     "name": "stdout",
     "output_type": "stream",
     "text": [
      "Total number of tokens in all training sentences: 68241\n",
      "Total number of tokens in all test sentences: 70360\n"
     ]
    }
   ],
   "source": [
    "total_tokens = df_train['token_count'].sum()\n",
    "print(f\"Total number of tokens in all training sentences: {total_tokens}\")\n",
    "\n",
    "total_test_tokens = df_test['token_count'].sum()\n",
    "print(f\"Total number of tokens in all test sentences: {total_test_tokens}\")"
   ]
  },
  {
   "cell_type": "code",
   "execution_count": null,
   "id": "e566561c-121d-4b27-b608-dedd90907173",
   "metadata": {},
   "outputs": [],
   "source": []
  }
 ],
 "metadata": {
  "kernelspec": {
   "display_name": "thesis",
   "language": "python",
   "name": "venv"
  },
  "language_info": {
   "codemirror_mode": {
    "name": "ipython",
    "version": 3
   },
   "file_extension": ".py",
   "mimetype": "text/x-python",
   "name": "python",
   "nbconvert_exporter": "python",
   "pygments_lexer": "ipython3",
   "version": "3.12.2"
  }
 },
 "nbformat": 4,
 "nbformat_minor": 5
}
