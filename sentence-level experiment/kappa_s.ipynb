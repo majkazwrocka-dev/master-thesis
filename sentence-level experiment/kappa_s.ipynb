{
 "cells": [
  {
   "cell_type": "markdown",
   "id": "97f5aac0-5f20-4f9e-aef2-94924e69b1e0",
   "metadata": {},
   "source": [
    "Calculations of mean, sd, and kappa for the results files (sentence-level)"
   ]
  },
  {
   "cell_type": "markdown",
   "id": "f38c919b-786c-4a53-a9fa-a91293c9e2cd",
   "metadata": {},
   "source": [
    "## BERT - Sherlock\n"
   ]
  },
  {
   "cell_type": "code",
   "execution_count": 66,
   "id": "81635281-3019-4505-9e5e-03810026b9b5",
   "metadata": {},
   "outputs": [
    {
     "name": "stdout",
     "output_type": "stream",
     "text": [
      "Mean F1-score: 0.4803\n",
      "Standard deviation of F1-scores: 0.0509\n"
     ]
    }
   ],
   "source": [
    "import pandas as pd\n",
    "from sklearn.metrics import cohen_kappa_score\n",
    "import numpy as np \n",
    "\n",
    "f1_scores = [0.4927, 0.5354, 0.4127] \n",
    "\n",
    "mean_score = np.mean(f1_scores)\n",
    "print(f\"Mean F1-score: {mean_score:.4f}\")\n",
    "\n",
    "std_dev = np.std(f1_scores)\n",
    "print(f\"Standard deviation of F1-scores: {std_dev:.4f}\")"
   ]
  },
  {
   "cell_type": "code",
   "execution_count": 59,
   "id": "ca7c689f-37da-4894-b2f7-38982f61334b",
   "metadata": {},
   "outputs": [
    {
     "name": "stdout",
     "output_type": "stream",
     "text": [
      "Kappa A vs B: 0.3819\n",
      "Kappa A vs C: 0.3415\n",
      "Kappa B vs C: 0.2631\n"
     ]
    }
   ],
   "source": [
    "import pandas as pd\n",
    "from sklearn.metrics import cohen_kappa_score\n",
    "\n",
    "A = pd.read_csv('all_folds_sentence_predictions.tsv', sep='\\t')\n",
    "B = pd.read_csv('2all_folds_sentence_predictions.tsv', sep='\\t')\n",
    "C = pd.read_csv('3all_folds_sentence_predictions.tsv', sep='\\t')\n",
    "\n",
    "for df in (A, B, C):\n",
    "    df['key'] = df['sentence'] + '||' + df['gold_label']\n",
    "    df['occ'] = df.groupby('key').cumcount()\n",
    "\n",
    "A = A.rename(columns={'prediction': 'pred_A'})\n",
    "B = B.rename(columns={'prediction': 'pred_B'})\n",
    "C = C.rename(columns={'prediction': 'pred_C'})\n",
    "\n",
    "merged = (\n",
    "    A[['key', 'occ', 'pred_A']]\n",
    "    .merge(B[['key', 'occ', 'pred_B']], on=['key', 'occ'])\n",
    "    .merge(C[['key', 'occ', 'pred_C']], on=['key', 'occ'])\n",
    ")\n",
    "\n",
    "kappa_AB = cohen_kappa_score(merged['pred_A'], merged['pred_B'])\n",
    "kappa_AC = cohen_kappa_score(merged['pred_A'], merged['pred_C'])\n",
    "kappa_BC = cohen_kappa_score(merged['pred_B'], merged['pred_C'])\n",
    "\n",
    "print(f\"Kappa A vs B: {kappa_AB:.4f}\")\n",
    "print(f\"Kappa A vs C: {kappa_AC:.4f}\")\n",
    "print(f\"Kappa B vs C: {kappa_BC:.4f}\")\n"
   ]
  },
  {
   "cell_type": "markdown",
   "id": "6ffb78ae-072f-4da1-968e-648b3276ee41",
   "metadata": {},
   "source": [
    "## TuringBERT - Sherlock"
   ]
  },
  {
   "cell_type": "code",
   "execution_count": 61,
   "id": "82dd81ce-ca13-4b90-b182-a5a04e3c856a",
   "metadata": {},
   "outputs": [
    {
     "name": "stdout",
     "output_type": "stream",
     "text": [
      "Mean F1-score: 0.4178\n",
      "Standard deviation of F1-scores: 0.0243\n"
     ]
    }
   ],
   "source": [
    "f1_scores = [0.4258, 0.3849, 0.4428] \n",
    "\n",
    "mean_score = np.mean(f1_scores)\n",
    "print(f\"Mean F1-score: {mean_score:.4f}\")\n",
    "\n",
    "std_dev = np.std(f1_scores)\n",
    "print(f\"Standard deviation of F1-scores: {std_dev:.4f}\")"
   ]
  },
  {
   "cell_type": "code",
   "execution_count": 56,
   "id": "a80330c4-b137-48ae-a427-6918b8dbfc3a",
   "metadata": {},
   "outputs": [
    {
     "name": "stdout",
     "output_type": "stream",
     "text": [
      "Kappa A vs B: 0.3203\n",
      "Kappa A vs C: 0.3788\n",
      "Kappa B vs C: 0.3084\n"
     ]
    }
   ],
   "source": [
    "A = pd.read_csv('Turing_all_folds_sentence_predictions.tsv', sep='\\t')\n",
    "B = pd.read_csv('2Turing_all_folds_sentence_predictions.tsv', sep='\\t')\n",
    "C = pd.read_csv('3Turing_all_folds_sentence_predictions.tsv', sep='\\t')\n",
    "\n",
    "for df in (A, B, C):\n",
    "    df['key'] = df['sentence'] + '||' + df['gold_label']\n",
    "    df['occ'] = df.groupby('key').cumcount()\n",
    "\n",
    "A = A.rename(columns={'prediction': 'pred_A'})\n",
    "B = B.rename(columns={'prediction': 'pred_B'})\n",
    "C = C.rename(columns={'prediction': 'pred_C'})\n",
    "\n",
    "merged = (\n",
    "    A[['key', 'occ', 'pred_A']]\n",
    "    .merge(B[['key', 'occ', 'pred_B']], on=['key', 'occ'])\n",
    "    .merge(C[['key', 'occ', 'pred_C']], on=['key', 'occ'])\n",
    ")\n",
    "\n",
    "kappa_AB = cohen_kappa_score(merged['pred_A'], merged['pred_B'])\n",
    "kappa_AC = cohen_kappa_score(merged['pred_A'], merged['pred_C'])\n",
    "kappa_BC = cohen_kappa_score(merged['pred_B'], merged['pred_C'])\n",
    "\n",
    "print(f\"Kappa A vs B: {kappa_AB:.4f}\")\n",
    "print(f\"Kappa A vs C: {kappa_AC:.4f}\")\n",
    "print(f\"Kappa B vs C: {kappa_BC:.4f}\")"
   ]
  },
  {
   "cell_type": "markdown",
   "id": "9e7a7bb4-170a-4234-9162-12fb000e4b3e",
   "metadata": {},
   "source": [
    "## BERT - Friends"
   ]
  },
  {
   "cell_type": "code",
   "execution_count": 81,
   "id": "761d2b7c-c2ce-4717-aaa1-a7223e54eeb6",
   "metadata": {},
   "outputs": [
    {
     "name": "stdout",
     "output_type": "stream",
     "text": [
      "Mean F1-score: 0.6798\n",
      "Standard deviation of F1-scores: 0.0048\n"
     ]
    }
   ],
   "source": [
    "f1_scores = [0.6763, 0.6866, 0.6764] \n",
    "\n",
    "mean_score = np.mean(f1_scores)\n",
    "print(f\"Mean F1-score: {mean_score:.4f}\")\n",
    "\n",
    "std_dev = np.std(f1_scores)\n",
    "print(f\"Standard deviation of F1-scores: {std_dev:.4f}\")"
   ]
  },
  {
   "cell_type": "code",
   "execution_count": 94,
   "id": "4477d96c-94e3-4b25-9181-f03a8eeea8ec",
   "metadata": {},
   "outputs": [
    {
     "name": "stdout",
     "output_type": "stream",
     "text": [
      "Cohen's kappa between Model A and Model B: 0.8740\n",
      "Kappa A vs C: 0.8743\n",
      "Kappa B vs C: 0.8711\n"
     ]
    }
   ],
   "source": [
    "modelA = pd.read_csv('BERT_benchmark_predictions.tsv', sep='\\t')\n",
    "modelB = pd.read_csv('2BERT_benchmark_predictions.tsv', sep='\\t')\n",
    "modelC = pd.read_csv('3BERT_benchmark_predictions.tsv', sep='\\t')\n",
    "\n",
    "kappa = cohen_kappa_score(modelA['prediction'], modelB['prediction'])\n",
    "kappa_AC = cohen_kappa_score(modelA['prediction'], modelC['prediction'])\n",
    "kappa_BC = cohen_kappa_score(modelB['prediction'], modelC['prediction'])\n",
    "print(f\"Cohen's kappa between Model A and Model B: {kappa:.4f}\")\n",
    "print(f\"Kappa A vs C: {kappa_AC:.4f}\")\n",
    "print(f\"Kappa B vs C: {kappa_BC:.4f}\")\n"
   ]
  },
  {
   "cell_type": "markdown",
   "id": "fa73be8e-5027-4ea6-91fe-a2ddb432844b",
   "metadata": {},
   "source": [
    "## TuringBERT - Friends"
   ]
  },
  {
   "cell_type": "code",
   "execution_count": 89,
   "id": "cbb42d85-51c0-4055-8ecb-8dd9cd892b93",
   "metadata": {},
   "outputs": [
    {
     "name": "stdout",
     "output_type": "stream",
     "text": [
      "Mean F1-score: 0.6664\n",
      "Standard deviation of F1-scores: 0.0038\n"
     ]
    }
   ],
   "source": [
    "f1_scores = [0.6710, 0.6665, 0.6618] \n",
    "\n",
    "mean_score = np.mean(f1_scores)\n",
    "print(f\"Mean F1-score: {mean_score:.4f}\")\n",
    "\n",
    "std_dev = np.std(f1_scores)\n",
    "print(f\"Standard deviation of F1-scores: {std_dev:.4f}\")"
   ]
  },
  {
   "cell_type": "code",
   "execution_count": 96,
   "id": "48952965-0ed8-4f26-b407-a37fc3d351be",
   "metadata": {},
   "outputs": [
    {
     "name": "stdout",
     "output_type": "stream",
     "text": [
      "Cohen's kappa between Model A and Model B: 0.8583\n",
      "Kappa A vs C: 0.8443\n",
      "Kappa B vs C: 0.8340\n"
     ]
    }
   ],
   "source": [
    "modelA = pd.read_csv('TuringBERT_benchmark_predictions.tsv', sep='\\t')\n",
    "modelB = pd.read_csv('2TuringBERT_benchmark_predictions.tsv', sep='\\t')\n",
    "modelC = pd.read_csv('3TuringBERT_benchmark_predictions.tsv', sep='\\t')\n",
    "\n",
    "kappa = cohen_kappa_score(modelA['prediction'], modelB['prediction'])\n",
    "kappa_AC = cohen_kappa_score(modelA['prediction'], modelC['prediction'])\n",
    "kappa_BC = cohen_kappa_score(modelB['prediction'], modelC['prediction'])\n",
    "print(f\"Cohen's kappa between Model A and Model B: {kappa:.4f}\")\n",
    "print(f\"Kappa A vs C: {kappa_AC:.4f}\")\n",
    "print(f\"Kappa B vs C: {kappa_BC:.4f}\")\n"
   ]
  },
  {
   "cell_type": "code",
   "execution_count": null,
   "id": "b52f20fa-e94d-4344-a775-8a270ebffeb6",
   "metadata": {},
   "outputs": [],
   "source": []
  }
 ],
 "metadata": {
  "kernelspec": {
   "display_name": "thesis",
   "language": "python",
   "name": "venv"
  },
  "language_info": {
   "codemirror_mode": {
    "name": "ipython",
    "version": 3
   },
   "file_extension": ".py",
   "mimetype": "text/x-python",
   "name": "python",
   "nbconvert_exporter": "python",
   "pygments_lexer": "ipython3",
   "version": "3.12.2"
  }
 },
 "nbformat": 4,
 "nbformat_minor": 5
}
