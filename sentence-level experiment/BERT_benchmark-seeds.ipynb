{
 "cells": [
  {
   "cell_type": "markdown",
   "id": "705da7cf-f7a3-41e2-9587-7df59523a75a",
   "metadata": {},
   "source": [
    "# Basic setup"
   ]
  },
  {
   "cell_type": "markdown",
   "id": "f4357d8c-85f2-467b-b82c-14fc38c8dcde",
   "metadata": {},
   "source": [
    "## preprocessing"
   ]
  },
  {
   "cell_type": "code",
   "execution_count": 16,
   "id": "8e9e24c7-23db-41aa-bd21-f59728121e2f",
   "metadata": {},
   "outputs": [],
   "source": [
    "#!pip install datasets transformers scikit-learn"
   ]
  },
  {
   "cell_type": "code",
   "execution_count": 1,
   "id": "b1b4839e-4aea-459a-b7b3-7160ffa3d20b",
   "metadata": {},
   "outputs": [
    {
     "name": "stderr",
     "output_type": "stream",
     "text": [
      "/Users/maja/Documents/VU/thesis/venv/lib/python3.12/site-packages/tqdm/auto.py:21: TqdmWarning: IProgress not found. Please update jupyter and ipywidgets. See https://ipywidgets.readthedocs.io/en/stable/user_install.html\n",
      "  from .autonotebook import tqdm as notebook_tqdm\n"
     ]
    }
   ],
   "source": [
    "import pandas as pd\n",
    "from datasets import Dataset\n",
    "import transformers\n",
    "from transformers import AutoTokenizer, AutoModel\n",
    "from transformers import AutoModelForSequenceClassification, TrainingArguments, Trainer"
   ]
  },
  {
   "cell_type": "code",
   "execution_count": 2,
   "id": "288ecd8e-933a-4ecf-b8a3-3da04317ca09",
   "metadata": {},
   "outputs": [],
   "source": [
    "# benchmark files\n",
    "train_file = \"../data/train_benchmark.csv\"\n",
    "    \n",
    "test_file = \"../data/test_benchmark.csv\""
   ]
  },
  {
   "cell_type": "code",
   "execution_count": 5,
   "id": "ed647551-9092-454d-948a-99cd7d0d74cb",
   "metadata": {},
   "outputs": [],
   "source": [
    "df_train = pd.read_csv(train_file, sep=\",\")\n",
    "df_test = pd.read_csv(test_file, sep=\",\")\n",
    "\n",
    "df_train[\"Sentiment\"] = df_train[\"Sentiment\"].str.upper()\n",
    "df_test[\"Sentiment\"] = df_test[\"Sentiment\"].str.upper()\n",
    "\n",
    "# keeping only relevant data\n",
    "df_train = df_train[[\"Utterance\", \"Sentiment\"]].rename(columns={\"Utterance\": \"text\", \"Sentiment\": \"sentiment_label\"})\n",
    "df_test = df_test[[\"Utterance\", \"Sentiment\"]].rename(columns={\"Utterance\": \"text\", \"Sentiment\": \"sentiment_label\"})"
   ]
  },
  {
   "cell_type": "code",
   "execution_count": 7,
   "id": "1f002757-1a3a-4586-8dbb-4d8147e2a82f",
   "metadata": {},
   "outputs": [
    {
     "data": {
      "text/html": [
       "<div>\n",
       "<style scoped>\n",
       "    .dataframe tbody tr th:only-of-type {\n",
       "        vertical-align: middle;\n",
       "    }\n",
       "\n",
       "    .dataframe tbody tr th {\n",
       "        vertical-align: top;\n",
       "    }\n",
       "\n",
       "    .dataframe thead th {\n",
       "        text-align: right;\n",
       "    }\n",
       "</style>\n",
       "<table border=\"1\" class=\"dataframe\">\n",
       "  <thead>\n",
       "    <tr style=\"text-align: right;\">\n",
       "      <th></th>\n",
       "      <th>text</th>\n",
       "      <th>sentiment_label</th>\n",
       "    </tr>\n",
       "  </thead>\n",
       "  <tbody>\n",
       "    <tr>\n",
       "      <th>0</th>\n",
       "      <td>also I was the point person on my company’s tr...</td>\n",
       "      <td>NEUTRAL</td>\n",
       "    </tr>\n",
       "    <tr>\n",
       "      <th>1</th>\n",
       "      <td>You must’ve had your hands full.</td>\n",
       "      <td>NEUTRAL</td>\n",
       "    </tr>\n",
       "    <tr>\n",
       "      <th>2</th>\n",
       "      <td>That I did. That I did.</td>\n",
       "      <td>NEUTRAL</td>\n",
       "    </tr>\n",
       "    <tr>\n",
       "      <th>3</th>\n",
       "      <td>So let’s talk a little bit about your duties.</td>\n",
       "      <td>NEUTRAL</td>\n",
       "    </tr>\n",
       "    <tr>\n",
       "      <th>4</th>\n",
       "      <td>My duties?  All right.</td>\n",
       "      <td>POSITIVE</td>\n",
       "    </tr>\n",
       "    <tr>\n",
       "      <th>...</th>\n",
       "      <td>...</td>\n",
       "      <td>...</td>\n",
       "    </tr>\n",
       "    <tr>\n",
       "      <th>9984</th>\n",
       "      <td>You or me?</td>\n",
       "      <td>NEUTRAL</td>\n",
       "    </tr>\n",
       "    <tr>\n",
       "      <th>9985</th>\n",
       "      <td>I got it. Uh, Joey, women don't have Adam's ap...</td>\n",
       "      <td>NEUTRAL</td>\n",
       "    </tr>\n",
       "    <tr>\n",
       "      <th>9986</th>\n",
       "      <td>You guys are messing with me, right?</td>\n",
       "      <td>POSITIVE</td>\n",
       "    </tr>\n",
       "    <tr>\n",
       "      <th>9987</th>\n",
       "      <td>Yeah.</td>\n",
       "      <td>NEUTRAL</td>\n",
       "    </tr>\n",
       "    <tr>\n",
       "      <th>9988</th>\n",
       "      <td>That was a good one. For a second there, I was...</td>\n",
       "      <td>POSITIVE</td>\n",
       "    </tr>\n",
       "  </tbody>\n",
       "</table>\n",
       "<p>9989 rows × 2 columns</p>\n",
       "</div>"
      ],
      "text/plain": [
       "                                                   text sentiment_label\n",
       "0     also I was the point person on my company’s tr...         NEUTRAL\n",
       "1                      You must’ve had your hands full.         NEUTRAL\n",
       "2                               That I did. That I did.         NEUTRAL\n",
       "3         So let’s talk a little bit about your duties.         NEUTRAL\n",
       "4                                My duties?  All right.        POSITIVE\n",
       "...                                                 ...             ...\n",
       "9984                                         You or me?         NEUTRAL\n",
       "9985  I got it. Uh, Joey, women don't have Adam's ap...         NEUTRAL\n",
       "9986               You guys are messing with me, right?        POSITIVE\n",
       "9987                                              Yeah.         NEUTRAL\n",
       "9988  That was a good one. For a second there, I was...        POSITIVE\n",
       "\n",
       "[9989 rows x 2 columns]"
      ]
     },
     "execution_count": 7,
     "metadata": {},
     "output_type": "execute_result"
    }
   ],
   "source": [
    "df_train"
   ]
  },
  {
   "cell_type": "code",
   "execution_count": 9,
   "id": "1670b350-39df-4ca6-a971-4aed501dd36f",
   "metadata": {},
   "outputs": [],
   "source": [
    "label2id = {'NEGATIVE': 0, 'NEUTRAL': 1, 'POSITIVE': 2}\n",
    "id2label = {v: k for k, v in label2id.items()}\n",
    "\n",
    "df_train[\"label\"] = df_train[\"sentiment_label\"].map(label2id)\n",
    "df_test[\"label\"] = df_test[\"sentiment_label\"].map(label2id)\n"
   ]
  },
  {
   "cell_type": "code",
   "execution_count": 11,
   "id": "1257ac0e-fd7b-459f-88be-01a981a673c6",
   "metadata": {},
   "outputs": [],
   "source": [
    "train_dataset = Dataset.from_pandas(df_train[[\"text\", \"label\"]])\n",
    "test_dataset = Dataset.from_pandas(df_test[[\"text\", \"label\"]])"
   ]
  },
  {
   "cell_type": "code",
   "execution_count": 13,
   "id": "a5a8f609-4f1c-46d4-8c96-4e582304dda8",
   "metadata": {},
   "outputs": [],
   "source": [
    "tokenizer = AutoTokenizer.from_pretrained(\"bert-base-uncased\")"
   ]
  },
  {
   "cell_type": "code",
   "execution_count": 14,
   "id": "7db20c05-9bff-4495-aee0-23240a0283f8",
   "metadata": {},
   "outputs": [
    {
     "name": "stderr",
     "output_type": "stream",
     "text": [
      "Map: 100%|████████████████████████| 9989/9989 [00:00<00:00, 21894.62 examples/s]\n",
      "Map: 100%|████████████████████████| 2610/2610 [00:00<00:00, 32339.65 examples/s]\n"
     ]
    }
   ],
   "source": [
    "def tokenize_function(example):\n",
    "    return tokenizer(example[\"text\"], truncation=True, padding=\"max_length\", max_length=128)\n",
    "\n",
    "train_dataset = train_dataset.map(tokenize_function, batched=True)\n",
    "test_dataset = test_dataset.map(tokenize_function, batched=True)\n"
   ]
  },
  {
   "cell_type": "markdown",
   "id": "7fbf9cdb-16c6-4d07-9c82-23f08da8a001",
   "metadata": {},
   "source": [
    "## model training"
   ]
  },
  {
   "cell_type": "code",
   "execution_count": 17,
   "id": "74674555-7735-4593-b309-03ef51e2e390",
   "metadata": {},
   "outputs": [],
   "source": [
    "import evaluate\n",
    "import numpy as np\n",
    "model_checkpoint = \"bert-base-uncased\"\n",
    "task = \"sentiment_analysis\"\n",
    "batch_size = 16"
   ]
  },
  {
   "cell_type": "code",
   "execution_count": 24,
   "id": "550d024b-6ced-4313-9ba1-6023892a62e6",
   "metadata": {},
   "outputs": [],
   "source": [
    "from transformers import (\n",
    "    set_seed, \n",
    "    TrainingArguments, \n",
    "    Trainer,\n",
    "    AutoModelForSequenceClassification,\n",
    "    DataCollatorWithPadding,\n",
    "    AutoTokenizer\n",
    ")\n",
    "\n",
    "#put your seed\n",
    "SEED = 4\n",
    "set_seed(SEED)\n",
    "\n",
    "model_name = model_checkpoint.split(\"/\")[-1]\n",
    "args = TrainingArguments(\n",
    "    f\"{model_name}-finetuned-{task}\",\n",
    "    eval_strategy = \"epoch\",\n",
    "    learning_rate=2e-5,\n",
    "    per_device_train_batch_size=batch_size,\n",
    "    per_device_eval_batch_size=batch_size,\n",
    "    num_train_epochs=3,\n",
    "    weight_decay=0.01,\n",
    "    seed=SEED,\n",
    "    report_to=None,\n",
    ")\n"
   ]
  },
  {
   "cell_type": "code",
   "execution_count": 23,
   "id": "06a353d7-4ba6-4f3f-8f6d-fcaa0e32d24d",
   "metadata": {},
   "outputs": [
    {
     "name": "stderr",
     "output_type": "stream",
     "text": [
      "Some weights of BertForSequenceClassification were not initialized from the model checkpoint at bert-base-uncased and are newly initialized: ['classifier.bias', 'classifier.weight']\n",
      "You should probably TRAIN this model on a down-stream task to be able to use it for predictions and inference.\n"
     ]
    }
   ],
   "source": [
    "from transformers import DataCollatorForTokenClassification\n",
    "\n",
    "data_collator = DataCollatorWithPadding(tokenizer=tokenizer)\n",
    "metric = evaluate.load(\"seqeval\")\n",
    "model = AutoModelForSequenceClassification.from_pretrained(\n",
    "    model_checkpoint,\n",
    "    num_labels=3,  # NEGATIVE, NEUTRAL, POSITIVE\n",
    "    id2label={0:\"NEGATIVE\",1:\"NEUTRAL\",2:\"POSITIVE\"},\n",
    "    label2id={\"NEGATIVE\":0,\"NEUTRAL\":1,\"POSITIVE\":2}\n",
    ")"
   ]
  },
  {
   "cell_type": "code",
   "execution_count": 25,
   "id": "09a6ff1a-9bf5-44ad-83c6-2e2b3b3ac76a",
   "metadata": {},
   "outputs": [],
   "source": [
    "label_list = [\"NEGATIVE\", \"NEUTRAL\", \"POSITIVE\"]"
   ]
  },
  {
   "cell_type": "code",
   "execution_count": 27,
   "id": "b970d860-b8dc-40f7-aac5-a202a2b10278",
   "metadata": {},
   "outputs": [],
   "source": [
    "accuracy_metric = evaluate.load(\"accuracy\")\n",
    "precision_metric = evaluate.load(\"precision\")\n",
    "recall_metric = evaluate.load(\"recall\")\n",
    "f1_metric = evaluate.load(\"f1\")\n",
    "\n",
    "def compute_metrics(p):\n",
    "    logits, labels = p\n",
    "    predictions = np.argmax(logits, axis=-1)\n",
    "    accuracy = accuracy_metric.compute(predictions=predictions, references=labels)\n",
    "    precision = precision_metric.compute(predictions=predictions, references=labels, average=\"weighted\")\n",
    "    recall = recall_metric.compute(predictions=predictions, references=labels, average=\"weighted\")\n",
    "    f1 = f1_metric.compute(predictions=predictions, references=labels, average=\"weighted\")\n",
    "    return {\n",
    "        \"accuracy\": accuracy[\"accuracy\"],\n",
    "        \"precision\": precision[\"precision\"],\n",
    "        \"recall\": recall[\"recall\"],\n",
    "        \"f1\": f1[\"f1\"],\n",
    "    }"
   ]
  },
  {
   "cell_type": "code",
   "execution_count": 32,
   "id": "525c3464-3550-4111-b611-b1eab529715a",
   "metadata": {},
   "outputs": [
    {
     "name": "stderr",
     "output_type": "stream",
     "text": [
      "/var/folders/pk/23rj3vrj73x83046rkqn9g100000gn/T/ipykernel_9224/601068247.py:1: FutureWarning: `tokenizer` is deprecated and will be removed in version 5.0.0 for `Trainer.__init__`. Use `processing_class` instead.\n",
      "  trainer = Trainer(\n"
     ]
    }
   ],
   "source": [
    "trainer = Trainer(\n",
    "    model=model,\n",
    "    args=args,\n",
    "    train_dataset=train_dataset,\n",
    "    eval_dataset=test_dataset,       \n",
    "    data_collator=data_collator,\n",
    "    tokenizer=tokenizer,\n",
    "    compute_metrics=compute_metrics,\n",
    ")"
   ]
  },
  {
   "cell_type": "code",
   "execution_count": 34,
   "id": "03476c8c-2d68-4d8d-acef-ebcf073b5262",
   "metadata": {
    "scrolled": true
   },
   "outputs": [
    {
     "name": "stderr",
     "output_type": "stream",
     "text": [
      "/Users/maja/Documents/VU/thesis/venv/lib/python3.12/site-packages/torch/utils/data/dataloader.py:683: UserWarning: 'pin_memory' argument is set as true but not supported on MPS now, then device pinned memory won't be used.\n",
      "  warnings.warn(warn_msg)\n"
     ]
    },
    {
     "data": {
      "text/html": [
       "\n",
       "    <div>\n",
       "      \n",
       "      <progress value='1875' max='1875' style='width:300px; height:20px; vertical-align: middle;'></progress>\n",
       "      [1875/1875 44:55, Epoch 3/3]\n",
       "    </div>\n",
       "    <table border=\"1\" class=\"dataframe\">\n",
       "  <thead>\n",
       " <tr style=\"text-align: left;\">\n",
       "      <th>Epoch</th>\n",
       "      <th>Training Loss</th>\n",
       "      <th>Validation Loss</th>\n",
       "      <th>Accuracy</th>\n",
       "      <th>Precision</th>\n",
       "      <th>Recall</th>\n",
       "      <th>F1</th>\n",
       "    </tr>\n",
       "  </thead>\n",
       "  <tbody>\n",
       "    <tr>\n",
       "      <td>1</td>\n",
       "      <td>0.811000</td>\n",
       "      <td>0.714328</td>\n",
       "      <td>0.706897</td>\n",
       "      <td>0.708505</td>\n",
       "      <td>0.706897</td>\n",
       "      <td>0.704318</td>\n",
       "    </tr>\n",
       "    <tr>\n",
       "      <td>2</td>\n",
       "      <td>0.648000</td>\n",
       "      <td>0.729303</td>\n",
       "      <td>0.711494</td>\n",
       "      <td>0.712123</td>\n",
       "      <td>0.711494</td>\n",
       "      <td>0.710376</td>\n",
       "    </tr>\n",
       "    <tr>\n",
       "      <td>3</td>\n",
       "      <td>0.552600</td>\n",
       "      <td>0.790747</td>\n",
       "      <td>0.709579</td>\n",
       "      <td>0.708560</td>\n",
       "      <td>0.709579</td>\n",
       "      <td>0.709017</td>\n",
       "    </tr>\n",
       "  </tbody>\n",
       "</table><p>"
      ],
      "text/plain": [
       "<IPython.core.display.HTML object>"
      ]
     },
     "metadata": {},
     "output_type": "display_data"
    },
    {
     "name": "stderr",
     "output_type": "stream",
     "text": [
      "/Users/maja/Documents/VU/thesis/venv/lib/python3.12/site-packages/torch/utils/data/dataloader.py:683: UserWarning: 'pin_memory' argument is set as true but not supported on MPS now, then device pinned memory won't be used.\n",
      "  warnings.warn(warn_msg)\n",
      "/Users/maja/Documents/VU/thesis/venv/lib/python3.12/site-packages/torch/utils/data/dataloader.py:683: UserWarning: 'pin_memory' argument is set as true but not supported on MPS now, then device pinned memory won't be used.\n",
      "  warnings.warn(warn_msg)\n",
      "/Users/maja/Documents/VU/thesis/venv/lib/python3.12/site-packages/torch/utils/data/dataloader.py:683: UserWarning: 'pin_memory' argument is set as true but not supported on MPS now, then device pinned memory won't be used.\n",
      "  warnings.warn(warn_msg)\n",
      "/Users/maja/Documents/VU/thesis/venv/lib/python3.12/site-packages/torch/utils/data/dataloader.py:683: UserWarning: 'pin_memory' argument is set as true but not supported on MPS now, then device pinned memory won't be used.\n",
      "  warnings.warn(warn_msg)\n",
      "/Users/maja/Documents/VU/thesis/venv/lib/python3.12/site-packages/torch/utils/data/dataloader.py:683: UserWarning: 'pin_memory' argument is set as true but not supported on MPS now, then device pinned memory won't be used.\n",
      "  warnings.warn(warn_msg)\n"
     ]
    },
    {
     "data": {
      "text/plain": [
       "TrainOutput(global_step=1875, training_loss=0.6319663004557292, metrics={'train_runtime': 2701.689, 'train_samples_per_second': 11.092, 'train_steps_per_second': 0.694, 'total_flos': 1971179947263744.0, 'train_loss': 0.6319663004557292, 'epoch': 3.0})"
      ]
     },
     "execution_count": 34,
     "metadata": {},
     "output_type": "execute_result"
    }
   ],
   "source": [
    "trainer.train()"
   ]
  },
  {
   "cell_type": "code",
   "execution_count": 37,
   "id": "b6d47958-f9d0-4e0a-b1b9-2250f636cfd9",
   "metadata": {},
   "outputs": [
    {
     "name": "stderr",
     "output_type": "stream",
     "text": [
      "Trainer.tokenizer is now deprecated. You should use Trainer.processing_class instead.\n"
     ]
    },
    {
     "data": {
      "text/plain": [
       "('2BERT_benchmark_model/tokenizer_config.json',\n",
       " '2BERT_benchmark_model/special_tokens_map.json',\n",
       " '2BERT_benchmark_model/vocab.txt',\n",
       " '2BERT_benchmark_model/added_tokens.json',\n",
       " '2BERT_benchmark_model/tokenizer.json')"
      ]
     },
     "execution_count": 37,
     "metadata": {},
     "output_type": "execute_result"
    }
   ],
   "source": [
    "trainer.save_model('2BERT_benchmark_model')\n",
    "trainer.tokenizer.save_pretrained('2BERT_benchmark_model')"
   ]
  },
  {
   "cell_type": "code",
   "execution_count": 39,
   "id": "ab5d5a06-481b-404b-b525-0e53dd98c3a9",
   "metadata": {},
   "outputs": [],
   "source": [
    "model = AutoModelForSequenceClassification.from_pretrained(\"2BERT_benchmark_model\")\n",
    "tokenizer = AutoTokenizer.from_pretrained(\"2BERT_benchmark_model\")"
   ]
  },
  {
   "cell_type": "code",
   "execution_count": 41,
   "id": "ebdcfeea-4a30-495d-8e02-1848ec72c9fd",
   "metadata": {},
   "outputs": [
    {
     "name": "stderr",
     "output_type": "stream",
     "text": [
      "/Users/maja/Documents/VU/thesis/venv/lib/python3.12/site-packages/torch/utils/data/dataloader.py:683: UserWarning: 'pin_memory' argument is set as true but not supported on MPS now, then device pinned memory won't be used.\n",
      "  warnings.warn(warn_msg)\n"
     ]
    },
    {
     "data": {
      "text/html": [],
      "text/plain": [
       "<IPython.core.display.HTML object>"
      ]
     },
     "metadata": {},
     "output_type": "display_data"
    },
    {
     "data": {
      "text/plain": [
       "{'eval_loss': 0.7907472848892212,\n",
       " 'eval_accuracy': 0.7095785440613027,\n",
       " 'eval_precision': 0.7085602329322664,\n",
       " 'eval_recall': 0.7095785440613027,\n",
       " 'eval_f1': 0.7090172677446444,\n",
       " 'eval_runtime': 53.6981,\n",
       " 'eval_samples_per_second': 48.605,\n",
       " 'eval_steps_per_second': 3.054,\n",
       " 'epoch': 3.0}"
      ]
     },
     "execution_count": 41,
     "metadata": {},
     "output_type": "execute_result"
    }
   ],
   "source": [
    "trainer.evaluate()"
   ]
  },
  {
   "cell_type": "markdown",
   "id": "0bcb2741-c6d4-43c5-90e7-680d7bedb8f6",
   "metadata": {},
   "source": [
    "## model evaluation"
   ]
  },
  {
   "cell_type": "code",
   "execution_count": 42,
   "id": "d9a8e014-7275-4740-8c0f-e49104f7e4d5",
   "metadata": {},
   "outputs": [],
   "source": [
    "import csv\n",
    "\n",
    "def save_sentence_level_predictions(texts, predictions, gold_labels, label_list, output_file_path):\n",
    "    \"\"\"\n",
    "    Save sentence-level predictions with their texts and gold labels to a TSV file.\n",
    "\n",
    "    Args:\n",
    "        texts: List of sentence strings.\n",
    "        predictions: List or array of predicted label IDs (one per sentence).\n",
    "        gold_labels: List or array of true label IDs (one per sentence).\n",
    "        label_list: List of string labels, where index corresponds to label ID.\n",
    "        output_file_path: Path to save the TSV file.\n",
    "\n",
    "    Returns:\n",
    "        None\n",
    "    \"\"\"\n",
    "    with open(output_file_path, 'w', newline='', encoding='utf-8') as f:\n",
    "        writer = csv.writer(f, delimiter='\\t')\n",
    "        writer.writerow(['sentence', 'prediction', 'gold_label'])\n",
    "\n",
    "        for text, pred_id, gold_id in zip(texts, predictions, gold_labels):\n",
    "            pred_label = label_list[pred_id]\n",
    "            gold_label = label_list[gold_id]\n",
    "            writer.writerow([text, pred_label, gold_label])\n",
    "\n",
    "    print(f\"Sentence-level results saved to {output_file_path}\")\n"
   ]
  },
  {
   "cell_type": "code",
   "execution_count": 45,
   "id": "768fa041-20dd-4c9d-84cc-4fe91670708d",
   "metadata": {},
   "outputs": [
    {
     "name": "stderr",
     "output_type": "stream",
     "text": [
      "/Users/maja/Documents/VU/thesis/venv/lib/python3.12/site-packages/torch/utils/data/dataloader.py:683: UserWarning: 'pin_memory' argument is set as true but not supported on MPS now, then device pinned memory won't be used.\n",
      "  warnings.warn(warn_msg)\n"
     ]
    },
    {
     "name": "stdout",
     "output_type": "stream",
     "text": [
      "Sentence-level results saved to 2BERT_benchmark_predictions.tsv\n"
     ]
    }
   ],
   "source": [
    "predictions_raw, labels, _ = trainer.predict(test_dataset)\n",
    "predictions = np.argmax(predictions_raw, axis=1)  # shape (num_samples,)\n",
    "\n",
    "# Assuming you have the original sentences:\n",
    "texts = [example['text'] for example in test_dataset]\n",
    "\n",
    "save_sentence_level_predictions(texts, predictions, labels, label_list, \"2BERT_benchmark_predictions.tsv\")\n"
   ]
  },
  {
   "cell_type": "code",
   "execution_count": 44,
   "id": "926d9169-32c7-43e0-8083-e2e4cf429e22",
   "metadata": {},
   "outputs": [],
   "source": [
    "from sklearn.metrics import accuracy_score, classification_report, confusion_matrix, ConfusionMatrixDisplay\n",
    "import matplotlib.pyplot as plt\n",
    "\n",
    "def evaluate_sentence_predictions(predictions, labels, label_list):\n",
    "    \"\"\"\n",
    "    Evaluate sentence-level predictions and print metrics.\n",
    "\n",
    "    Args:\n",
    "        predictions: numpy array or list of predicted label IDs\n",
    "        labels: numpy array or list of true label IDs\n",
    "        label_list: list of label strings, e.g. [\"NEGATIVE\", \"NEUTRAL\", \"POSITIVE\"]\n",
    "    \"\"\"\n",
    "    # Convert IDs to label strings\n",
    "    pred_labels = [label_list[p] for p in predictions]\n",
    "    true_labels = [label_list[l] for l in labels]\n",
    "\n",
    "    accuracy = accuracy_score(true_labels, pred_labels)\n",
    "    report = classification_report(true_labels, pred_labels, target_names=label_list, digits=4)\n",
    "\n",
    "    cm = confusion_matrix(true_labels, pred_labels, labels=label_list)\n",
    "    disp = ConfusionMatrixDisplay(confusion_matrix=cm, display_labels=label_list)\n",
    "\n",
    "    print(f\"Accuracy: {accuracy:.4f}\")\n",
    "    print(\"Classification Report:\\n\", report)\n",
    "    disp.plot(cmap=plt.cm.Purples, xticks_rotation='vertical')\n",
    "    plt.title(\"Confusion Matrix\")\n",
    "    plt.show()\n"
   ]
  },
  {
   "cell_type": "code",
   "execution_count": 49,
   "id": "1b179a2a-91cf-4815-8e5d-c869d41ada8d",
   "metadata": {},
   "outputs": [
    {
     "name": "stdout",
     "output_type": "stream",
     "text": [
      "Accuracy: 0.7096\n",
      "Classification Report:\n",
      "               precision    recall  f1-score   support\n",
      "\n",
      "    NEGATIVE     0.6610    0.6483    0.6545       833\n",
      "     NEUTRAL     0.7731    0.7866    0.7798      1256\n",
      "    POSITIVE     0.6291    0.6219    0.6255       521\n",
      "\n",
      "    accuracy                         0.7096      2610\n",
      "   macro avg     0.6877    0.6856    0.6866      2610\n",
      "weighted avg     0.7086    0.7096    0.7090      2610\n",
      "\n"
     ]
    },
    {
     "data": {
      "image/png": "[encoded data removed]",
      "text/plain": [
       "<Figure size 640x480 with 2 Axes>"
      ]
     },
     "metadata": {},
     "output_type": "display_data"
    }
   ],
   "source": [
    "evaluate_sentence_predictions(predictions, labels, label_list)\n"
   ]
  },
  {
   "cell_type": "code",
   "execution_count": 21,
   "id": "4f69af9c-bf09-482b-85fd-630f2a4c847e",
   "metadata": {},
   "outputs": [],
   "source": [
    "#put your seed\n",
    "SEED = 95\n",
    "set_seed(SEED)\n",
    "\n",
    "model_name = model_checkpoint.split(\"/\")[-1]\n",
    "args = TrainingArguments(\n",
    "    f\"{model_name}-finetuned-{task}\",\n",
    "    eval_strategy = \"epoch\",\n",
    "    learning_rate=2e-5,\n",
    "    per_device_train_batch_size=batch_size,\n",
    "    per_device_eval_batch_size=batch_size,\n",
    "    num_train_epochs=3,\n",
    "    weight_decay=0.01,\n",
    "    seed=SEED,\n",
    "    report_to=None,\n",
    ")\n"
   ]
  },
  {
   "cell_type": "code",
   "execution_count": null,
   "id": "e8c07026-2e6c-4aca-bfb8-23e7f4f94bfd",
   "metadata": {},
   "outputs": [],
   "source": [
    "from transformers import DataCollatorForTokenClassification\n",
    "\n",
    "data_collator = DataCollatorWithPadding(tokenizer=tokenizer)\n",
    "metric = evaluate.load(\"seqeval\")\n",
    "model = AutoModelForSequenceClassification.from_pretrained(\n",
    "    model_checkpoint,\n",
    "    num_labels=3,  # NEGATIVE, NEUTRAL, POSITIVE\n",
    "    id2label={0:\"NEGATIVE\",1:\"NEUTRAL\",2:\"POSITIVE\"},\n",
    "    label2id={\"NEGATIVE\":0,\"NEUTRAL\":1,\"POSITIVE\":2}\n",
    ")"
   ]
  },
  {
   "cell_type": "code",
   "execution_count": 29,
   "id": "103ac42e-2c86-498b-82a4-20c210d531c7",
   "metadata": {},
   "outputs": [
    {
     "name": "stderr",
     "output_type": "stream",
     "text": [
      "/var/folders/pk/23rj3vrj73x83046rkqn9g100000gn/T/ipykernel_1226/601068247.py:1: FutureWarning: `tokenizer` is deprecated and will be removed in version 5.0.0 for `Trainer.__init__`. Use `processing_class` instead.\n",
      "  trainer = Trainer(\n"
     ]
    }
   ],
   "source": [
    "trainer = Trainer(\n",
    "    model=model,\n",
    "    args=args,\n",
    "    train_dataset=train_dataset,\n",
    "    eval_dataset=test_dataset,       \n",
    "    data_collator=data_collator,\n",
    "    tokenizer=tokenizer,\n",
    "    compute_metrics=compute_metrics,\n",
    ")"
   ]
  },
  {
   "cell_type": "code",
   "execution_count": 31,
   "id": "c394cd50-381b-4ebe-add9-88f2bcad3007",
   "metadata": {},
   "outputs": [
    {
     "name": "stderr",
     "output_type": "stream",
     "text": [
      "/Users/maja/Documents/VU/thesis/venv/lib/python3.12/site-packages/torch/utils/data/dataloader.py:683: UserWarning: 'pin_memory' argument is set as true but not supported on MPS now, then device pinned memory won't be used.\n",
      "  warnings.warn(warn_msg)\n"
     ]
    },
    {
     "data": {
      "text/html": [
       "\n",
       "    <div>\n",
       "      \n",
       "      <progress value='1875' max='1875' style='width:300px; height:20px; vertical-align: middle;'></progress>\n",
       "      [1875/1875 42:28, Epoch 3/3]\n",
       "    </div>\n",
       "    <table border=\"1\" class=\"dataframe\">\n",
       "  <thead>\n",
       " <tr style=\"text-align: left;\">\n",
       "      <th>Epoch</th>\n",
       "      <th>Training Loss</th>\n",
       "      <th>Validation Loss</th>\n",
       "      <th>Accuracy</th>\n",
       "      <th>Precision</th>\n",
       "      <th>Recall</th>\n",
       "      <th>F1</th>\n",
       "    </tr>\n",
       "  </thead>\n",
       "  <tbody>\n",
       "    <tr>\n",
       "      <td>1</td>\n",
       "      <td>0.808500</td>\n",
       "      <td>0.704824</td>\n",
       "      <td>0.706513</td>\n",
       "      <td>0.701642</td>\n",
       "      <td>0.706513</td>\n",
       "      <td>0.699211</td>\n",
       "    </tr>\n",
       "    <tr>\n",
       "      <td>2</td>\n",
       "      <td>0.666800</td>\n",
       "      <td>0.749134</td>\n",
       "      <td>0.695019</td>\n",
       "      <td>0.700709</td>\n",
       "      <td>0.695019</td>\n",
       "      <td>0.697097</td>\n",
       "    </tr>\n",
       "    <tr>\n",
       "      <td>3</td>\n",
       "      <td>0.545800</td>\n",
       "      <td>0.783160</td>\n",
       "      <td>0.701533</td>\n",
       "      <td>0.699529</td>\n",
       "      <td>0.701533</td>\n",
       "      <td>0.700317</td>\n",
       "    </tr>\n",
       "  </tbody>\n",
       "</table><p>"
      ],
      "text/plain": [
       "<IPython.core.display.HTML object>"
      ]
     },
     "metadata": {},
     "output_type": "display_data"
    },
    {
     "name": "stderr",
     "output_type": "stream",
     "text": [
      "/Users/maja/Documents/VU/thesis/venv/lib/python3.12/site-packages/torch/utils/data/dataloader.py:683: UserWarning: 'pin_memory' argument is set as true but not supported on MPS now, then device pinned memory won't be used.\n",
      "  warnings.warn(warn_msg)\n",
      "/Users/maja/Documents/VU/thesis/venv/lib/python3.12/site-packages/torch/utils/data/dataloader.py:683: UserWarning: 'pin_memory' argument is set as true but not supported on MPS now, then device pinned memory won't be used.\n",
      "  warnings.warn(warn_msg)\n",
      "/Users/maja/Documents/VU/thesis/venv/lib/python3.12/site-packages/torch/utils/data/dataloader.py:683: UserWarning: 'pin_memory' argument is set as true but not supported on MPS now, then device pinned memory won't be used.\n",
      "  warnings.warn(warn_msg)\n",
      "/Users/maja/Documents/VU/thesis/venv/lib/python3.12/site-packages/torch/utils/data/dataloader.py:683: UserWarning: 'pin_memory' argument is set as true but not supported on MPS now, then device pinned memory won't be used.\n",
      "  warnings.warn(warn_msg)\n",
      "/Users/maja/Documents/VU/thesis/venv/lib/python3.12/site-packages/torch/utils/data/dataloader.py:683: UserWarning: 'pin_memory' argument is set as true but not supported on MPS now, then device pinned memory won't be used.\n",
      "  warnings.warn(warn_msg)\n"
     ]
    },
    {
     "data": {
      "text/plain": [
       "TrainOutput(global_step=1875, training_loss=0.6360166097005209, metrics={'train_runtime': 2549.6553, 'train_samples_per_second': 11.753, 'train_steps_per_second': 0.735, 'total_flos': 1971179947263744.0, 'train_loss': 0.6360166097005209, 'epoch': 3.0})"
      ]
     },
     "execution_count": 31,
     "metadata": {},
     "output_type": "execute_result"
    }
   ],
   "source": [
    "trainer.train()"
   ]
  },
  {
   "cell_type": "code",
   "execution_count": 33,
   "id": "00cbc366-a7e5-4751-885c-e8811e60dd80",
   "metadata": {},
   "outputs": [
    {
     "name": "stderr",
     "output_type": "stream",
     "text": [
      "Trainer.tokenizer is now deprecated. You should use Trainer.processing_class instead.\n"
     ]
    },
    {
     "data": {
      "text/plain": [
       "('3BERT_benchmark_model/tokenizer_config.json',\n",
       " '3BERT_benchmark_model/special_tokens_map.json',\n",
       " '3BERT_benchmark_model/vocab.txt',\n",
       " '3BERT_benchmark_model/added_tokens.json',\n",
       " '3BERT_benchmark_model/tokenizer.json')"
      ]
     },
     "execution_count": 33,
     "metadata": {},
     "output_type": "execute_result"
    }
   ],
   "source": [
    "trainer.save_model('3BERT_benchmark_model')\n",
    "trainer.tokenizer.save_pretrained('3BERT_benchmark_model')"
   ]
  },
  {
   "cell_type": "code",
   "execution_count": 35,
   "id": "5409df27-348a-45ee-af88-589611d2d3e3",
   "metadata": {},
   "outputs": [],
   "source": [
    "model = AutoModelForSequenceClassification.from_pretrained(\"3BERT_benchmark_model\")\n",
    "tokenizer = AutoTokenizer.from_pretrained(\"3BERT_benchmark_model\")"
   ]
  },
  {
   "cell_type": "code",
   "execution_count": 37,
   "id": "af8434a5-129c-433d-9821-607bf047390e",
   "metadata": {},
   "outputs": [
    {
     "name": "stderr",
     "output_type": "stream",
     "text": [
      "/Users/maja/Documents/VU/thesis/venv/lib/python3.12/site-packages/torch/utils/data/dataloader.py:683: UserWarning: 'pin_memory' argument is set as true but not supported on MPS now, then device pinned memory won't be used.\n",
      "  warnings.warn(warn_msg)\n"
     ]
    },
    {
     "data": {
      "text/html": [],
      "text/plain": [
       "<IPython.core.display.HTML object>"
      ]
     },
     "metadata": {},
     "output_type": "display_data"
    },
    {
     "data": {
      "text/plain": [
       "{'eval_loss': 0.7831600308418274,\n",
       " 'eval_accuracy': 0.7015325670498084,\n",
       " 'eval_precision': 0.6995293820085863,\n",
       " 'eval_recall': 0.7015325670498084,\n",
       " 'eval_f1': 0.7003171264392363,\n",
       " 'eval_runtime': 52.3668,\n",
       " 'eval_samples_per_second': 49.841,\n",
       " 'eval_steps_per_second': 3.132,\n",
       " 'epoch': 3.0}"
      ]
     },
     "execution_count": 37,
     "metadata": {},
     "output_type": "execute_result"
    }
   ],
   "source": [
    "trainer.evaluate()"
   ]
  },
  {
   "cell_type": "code",
   "execution_count": 46,
   "id": "2eb0401a-dc28-40db-8ee5-ee22567fa922",
   "metadata": {},
   "outputs": [
    {
     "name": "stderr",
     "output_type": "stream",
     "text": [
      "/Users/maja/Documents/VU/thesis/venv/lib/python3.12/site-packages/torch/utils/data/dataloader.py:683: UserWarning: 'pin_memory' argument is set as true but not supported on MPS now, then device pinned memory won't be used.\n",
      "  warnings.warn(warn_msg)\n"
     ]
    },
    {
     "data": {
      "text/html": [],
      "text/plain": [
       "<IPython.core.display.HTML object>"
      ]
     },
     "metadata": {},
     "output_type": "display_data"
    },
    {
     "name": "stdout",
     "output_type": "stream",
     "text": [
      "Sentence-level results saved to 3BERT_benchmark_predictions.tsv\n"
     ]
    }
   ],
   "source": [
    "predictions_raw, labels, _ = trainer.predict(test_dataset)\n",
    "predictions = np.argmax(predictions_raw, axis=1)  # shape (num_samples,)\n",
    "\n",
    "# Assuming you have the original sentences:\n",
    "texts = [example['text'] for example in test_dataset]\n",
    "\n",
    "save_sentence_level_predictions(texts, predictions, labels, label_list, \"3BERT_benchmark_predictions.tsv\")\n"
   ]
  },
  {
   "cell_type": "code",
   "execution_count": 48,
   "id": "ae2d0d51-38fa-4b5b-9cdc-fab9bedcc243",
   "metadata": {},
   "outputs": [
    {
     "name": "stdout",
     "output_type": "stream",
     "text": [
      "Accuracy: 0.7015\n",
      "Classification Report:\n",
      "               precision    recall  f1-score   support\n",
      "\n",
      "    NEGATIVE     0.6567    0.6315    0.6438       833\n",
      "     NEUTRAL     0.7617    0.7890    0.7751      1256\n",
      "    POSITIVE     0.6181    0.6027    0.6103       521\n",
      "\n",
      "    accuracy                         0.7015      2610\n",
      "   macro avg     0.6788    0.6744    0.6764      2610\n",
      "weighted avg     0.6995    0.7015    0.7003      2610\n",
      "\n"
     ]
    },
    {
     "data": {
      "image/png": "[encoded data removed]",
      "text/plain": [
       "<Figure size 640x480 with 2 Axes>"
      ]
     },
     "metadata": {},
     "output_type": "display_data"
    }
   ],
   "source": [
    "evaluate_sentence_predictions(predictions, labels, label_list)"
   ]
  },
  {
   "cell_type": "code",
   "execution_count": null,
   "id": "1c5cfefb-9d24-4465-9cd6-e92dcb4a5553",
   "metadata": {},
   "outputs": [],
   "source": []
  }
 ],
 "metadata": {
  "kernelspec": {
   "display_name": "thesis",
   "language": "python",
   "name": "venv"
  },
  "language_info": {
   "codemirror_mode": {
    "name": "ipython",
    "version": 3
   },
   "file_extension": ".py",
   "mimetype": "text/x-python",
   "name": "python",
   "nbconvert_exporter": "python",
   "pygments_lexer": "ipython3",
   "version": "3.12.2"
  }
 },
 "nbformat": 4,
 "nbformat_minor": 5
}
